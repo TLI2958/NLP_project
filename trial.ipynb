{
 "cells": [
  {
   "cell_type": "code",
   "execution_count": null,
   "metadata": {},
   "outputs": [],
   "source": [
    "!pip install -q -r requirements.txt\n",
    "from transformers import AutoTokenizer\n",
    "from transformers import AutoModelForSequenceClassification\n",
    "from datasets import load_dataset\n",
    "import torch\n",
    "import torch.nn as nn\n",
    "from torch.utils.data import DataLoader\n",
    "from torch.optim import AdamW\n",
    "from transformers import get_scheduler\n",
    "from tqdm.auto import tqdm\n",
    "import evaluate\n",
    "import numpy as np\n",
    "from torch.nn import functional as F\n",
    "from typing import Union\n",
    "import matplotlib.pyplot as plt\n",
    "import seaborn as sns\n",
    "import os \n",
    "import pandas as pd\n",
    "from collections import Counter\n",
    "from dataset_class import *\n",
    "sns.set_style('whitegrid')\n",
    "\n",
    "import warnings\n",
    "import sklearn.exceptions\n",
    "warnings.filterwarnings('ignore', category=DeprecationWarning)\n",
    "warnings.filterwarnings('ignore', category=UserWarning)\n",
    "warnings.filterwarnings('ignore', category=FutureWarning)\n",
    "warnings.filterwarnings(\"ignore\", category=sklearn.exceptions.UndefinedMetricWarning)\n",
    "\n",
    "violet = '#702b9d'"
   ]
  },
  {
   "cell_type": "markdown",
   "metadata": {},
   "source": [
    "##### loading"
   ]
  },
  {
   "cell_type": "code",
   "execution_count": 3,
   "metadata": {},
   "outputs": [],
   "source": [
    "train_path = '/scratch/' + os.environ.get(\"USER\", \"\") + '/data/jigsaw_training'\n",
    "val_path =  '/scratch/' + os.environ.get(\"USER\", \"\") + '/data/jigsaw_validation'\n",
    "training_file_path = os.path.join(train_path, 'train.csv')\n",
    "validation_file_path = os.path.join(val_path, 'validation_data.csv')"
   ]
  },
  {
   "cell_type": "markdown",
   "metadata": {},
   "source": [
    "###### **training**"
   ]
  },
  {
   "cell_type": "code",
   "execution_count": 4,
   "metadata": {},
   "outputs": [],
   "source": [
    "toxicity_train = pd.read_csv(f'{training_file_path}')\n",
    "toxicity_train['label'] = np.where(toxicity_train.target > 0.5, 1, 0)"
   ]
  },
  {
   "cell_type": "code",
   "execution_count": 16,
   "metadata": {},
   "outputs": [
    {
     "name": "stdout",
     "output_type": "stream",
     "text": [
      "count    1.804874e+06\n",
      "mean     1.030173e-01\n",
      "std      1.970757e-01\n",
      "min      0.000000e+00\n",
      "25%      0.000000e+00\n",
      "50%      0.000000e+00\n",
      "75%      1.666667e-01\n",
      "max      1.000000e+00\n",
      "Name: target, dtype: float64\n"
     ]
    },
    {
     "data": {
      "text/plain": [
       "<AxesSubplot:xlabel='target', ylabel='Count'>"
      ]
     },
     "execution_count": 16,
     "metadata": {},
     "output_type": "execute_result"
    },
    {
     "data": {
      "image/png": "[encoded data removed]",
      "text/plain": [
       "<Figure size 576x288 with 1 Axes>"
      ]
     },
     "metadata": {},
     "output_type": "display_data"
    }
   ],
   "source": [
    "# take a look at distribution\n",
    "print(toxicity_train.target.describe()) ## unbalanced sample\n",
    "\n",
    "fig, ax = plt.subplots(1,1, figsize = (8,4))\n",
    "sns.set(style=\"whitegrid\") \n",
    "sns.histplot(toxicity_train.target, binwidth = .05, color = violet, ax = ax)"
   ]
  },
  {
   "cell_type": "markdown",
   "metadata": {},
   "source": [
    "###### **validation**"
   ]
  },
  {
   "cell_type": "code",
   "execution_count": 9,
   "metadata": {},
   "outputs": [
    {
     "name": "stdout",
     "output_type": "stream",
     "text": [
      "worker          753\n",
      "less_toxic    11532\n",
      "more_toxic    11678\n",
      "dtype: int64\n",
      "(30108, 3)\n"
     ]
    }
   ],
   "source": [
    "toxicity_valid = pd.read_csv(f'{validation_file_path}')\n",
    "print(toxicity_valid.nunique())\n",
    "print(toxicity_valid.shape)"
   ]
  },
  {
   "cell_type": "code",
   "execution_count": 13,
   "metadata": {},
   "outputs": [],
   "source": [
    "## preprocess validation dataset \n",
    "texts = set(toxicity_valid.less_toxic.to_list() + toxicity_valid.more_toxic.to_list())\n",
    "text2id = {t:id for id,t in enumerate(texts)}\n",
    "toxicity_valid['less_id'] = toxicity_valid['less_toxic'].map(text2id)\n",
    "toxicity_valid['more_id'] = toxicity_valid['more_toxic'].map(text2id)\n",
    "toxicity_valid_grouped = (toxicity_valid.groupby(['less_id', 'more_id']).first()\\\n",
    "                          .reset_index().drop(['less_id', 'more_id'], axis = 1).drop(['worker'], axis = 1))"
   ]
  },
  {
   "cell_type": "code",
   "execution_count": 14,
   "metadata": {},
   "outputs": [
    {
     "data": {
      "text/html": [
       "<div>\n",
       "<style scoped>\n",
       "    .dataframe tbody tr th:only-of-type {\n",
       "        vertical-align: middle;\n",
       "    }\n",
       "\n",
       "    .dataframe tbody tr th {\n",
       "        vertical-align: top;\n",
       "    }\n",
       "\n",
       "    .dataframe thead th {\n",
       "        text-align: right;\n",
       "    }\n",
       "</style>\n",
       "<table border=\"1\" class=\"dataframe\">\n",
       "  <thead>\n",
       "    <tr style=\"text-align: right;\">\n",
       "      <th></th>\n",
       "      <th>less_toxic</th>\n",
       "      <th>more_toxic</th>\n",
       "    </tr>\n",
       "  </thead>\n",
       "  <tbody>\n",
       "    <tr>\n",
       "      <th>0</th>\n",
       "      <td>}}\\n\\nUNBLOCK: 1. The reason I used sockpuppet...</td>\n",
       "      <td>fdg \\n\\nyou like it in the ass huh?</td>\n",
       "    </tr>\n",
       "    <tr>\n",
       "      <th>1</th>\n",
       "      <td>deserves a knighthood \\n\\nwell done volkert. ...</td>\n",
       "      <td>\"\\n\\n\"\"Notes\"\"\\nWould you care to join issue w...</td>\n",
       "    </tr>\n",
       "    <tr>\n",
       "      <th>2</th>\n",
       "      <td>deserves a knighthood \\n\\nwell done volkert. ...</td>\n",
       "      <td>WHAT THE HELL IS WRONG WITH YOU WEOTIH:WROIUTH...</td>\n",
       "    </tr>\n",
       "    <tr>\n",
       "      <th>3</th>\n",
       "      <td>deserves a knighthood \\n\\nwell done volkert. ...</td>\n",
       "      <td>Hey\\n\\nI bet you Quinsareth are gay and like t...</td>\n",
       "    </tr>\n",
       "    <tr>\n",
       "      <th>4</th>\n",
       "      <td>\"\\nDetails2: I can understand that you would l...</td>\n",
       "      <td>Tard, my IP changes every time I reset my rou...</td>\n",
       "    </tr>\n",
       "    <tr>\n",
       "      <th>...</th>\n",
       "      <td>...</td>\n",
       "      <td>...</td>\n",
       "    </tr>\n",
       "    <tr>\n",
       "      <th>15405</th>\n",
       "      <td>hey Jingiby you hate Turkic people because you...</td>\n",
       "      <td>my fucking point exactly. wikipedia should jus...</td>\n",
       "    </tr>\n",
       "    <tr>\n",
       "      <th>15406</th>\n",
       "      <td>\\nI assume you are not Jewish. Your comment i...</td>\n",
       "      <td>ok listen, I understand I probably went a litt...</td>\n",
       "    </tr>\n",
       "    <tr>\n",
       "      <th>15407</th>\n",
       "      <td>\"\\nOf course you're not sure what point he's m...</td>\n",
       "      <td>I am going to shoot you in the head and laugh...</td>\n",
       "    </tr>\n",
       "    <tr>\n",
       "      <th>15408</th>\n",
       "      <td>Are you a fool? \\n\\nI am sorry, but you seem ...</td>\n",
       "      <td>==Wow i jsut did a test for this saying bill c...</td>\n",
       "    </tr>\n",
       "    <tr>\n",
       "      <th>15409</th>\n",
       "      <td>Are you a fool? \\n\\nI am sorry, but you seem ...</td>\n",
       "      <td>syriac nation bye bye \\n\\nsyriac nation origi...</td>\n",
       "    </tr>\n",
       "  </tbody>\n",
       "</table>\n",
       "<p>15410 rows × 2 columns</p>\n",
       "</div>"
      ],
      "text/plain": [
       "                                              less_toxic  \\\n",
       "0      }}\\n\\nUNBLOCK: 1. The reason I used sockpuppet...   \n",
       "1       deserves a knighthood \\n\\nwell done volkert. ...   \n",
       "2       deserves a knighthood \\n\\nwell done volkert. ...   \n",
       "3       deserves a knighthood \\n\\nwell done volkert. ...   \n",
       "4      \"\\nDetails2: I can understand that you would l...   \n",
       "...                                                  ...   \n",
       "15405  hey Jingiby you hate Turkic people because you...   \n",
       "15406   \\nI assume you are not Jewish. Your comment i...   \n",
       "15407  \"\\nOf course you're not sure what point he's m...   \n",
       "15408   Are you a fool? \\n\\nI am sorry, but you seem ...   \n",
       "15409   Are you a fool? \\n\\nI am sorry, but you seem ...   \n",
       "\n",
       "                                              more_toxic  \n",
       "0                    fdg \\n\\nyou like it in the ass huh?  \n",
       "1      \"\\n\\n\"\"Notes\"\"\\nWould you care to join issue w...  \n",
       "2      WHAT THE HELL IS WRONG WITH YOU WEOTIH:WROIUTH...  \n",
       "3      Hey\\n\\nI bet you Quinsareth are gay and like t...  \n",
       "4       Tard, my IP changes every time I reset my rou...  \n",
       "...                                                  ...  \n",
       "15405  my fucking point exactly. wikipedia should jus...  \n",
       "15406  ok listen, I understand I probably went a litt...  \n",
       "15407   I am going to shoot you in the head and laugh...  \n",
       "15408  ==Wow i jsut did a test for this saying bill c...  \n",
       "15409   syriac nation bye bye \\n\\nsyriac nation origi...  \n",
       "\n",
       "[15410 rows x 2 columns]"
      ]
     },
     "execution_count": 14,
     "metadata": {},
     "output_type": "execute_result"
    }
   ],
   "source": [
    "toxicity_valid_grouped"
   ]
  },
  {
   "cell_type": "code",
   "execution_count": 8,
   "metadata": {},
   "outputs": [
    {
     "name": "stdout",
     "output_type": "stream",
     "text": [
      "paired up ...\n",
      "made new dataframe ...\n"
     ]
    },
    {
     "data": {
      "text/html": [
       "<div>\n",
       "<style scoped>\n",
       "    .dataframe tbody tr th:only-of-type {\n",
       "        vertical-align: middle;\n",
       "    }\n",
       "\n",
       "    .dataframe tbody tr th {\n",
       "        vertical-align: top;\n",
       "    }\n",
       "\n",
       "    .dataframe thead th {\n",
       "        text-align: right;\n",
       "    }\n",
       "</style>\n",
       "<table border=\"1\" class=\"dataframe\">\n",
       "  <thead>\n",
       "    <tr style=\"text-align: right;\">\n",
       "      <th></th>\n",
       "      <th>more_toxic_text</th>\n",
       "      <th>less_toxic_text</th>\n",
       "      <th>toxicity_more_toxic</th>\n",
       "      <th>toxicity_less_toxic</th>\n",
       "      <th>labels_more_toxic</th>\n",
       "      <th>labels_less_toxic</th>\n",
       "    </tr>\n",
       "  </thead>\n",
       "  <tbody>\n",
       "    <tr>\n",
       "      <th>0</th>\n",
       "      <td>Nobody mocked anybody's death, Beavis. You jus...</td>\n",
       "      <td>It's called \"being economical with the truth\" ...</td>\n",
       "      <td>0.600000</td>\n",
       "      <td>0.000000</td>\n",
       "      <td>1</td>\n",
       "      <td>0</td>\n",
       "    </tr>\n",
       "    <tr>\n",
       "      <th>1</th>\n",
       "      <td>Omg, seriously? Natural News? That's one of th...</td>\n",
       "      <td>You will know that negotiations are not going ...</td>\n",
       "      <td>0.400000</td>\n",
       "      <td>0.200000</td>\n",
       "      <td>0</td>\n",
       "      <td>0</td>\n",
       "    </tr>\n",
       "    <tr>\n",
       "      <th>2</th>\n",
       "      <td>Same lame arguments we heard in 2010 about Mea...</td>\n",
       "      <td>That bumper is an easy touch up with paint kit...</td>\n",
       "      <td>0.000000</td>\n",
       "      <td>0.000000</td>\n",
       "      <td>0</td>\n",
       "      <td>0</td>\n",
       "    </tr>\n",
       "    <tr>\n",
       "      <th>3</th>\n",
       "      <td>Truth is allie is the sore loser.  Still hasn'...</td>\n",
       "      <td>He won't do jail time.</td>\n",
       "      <td>0.500000</td>\n",
       "      <td>0.000000</td>\n",
       "      <td>0</td>\n",
       "      <td>0</td>\n",
       "    </tr>\n",
       "    <tr>\n",
       "      <th>4</th>\n",
       "      <td>So you do want gays to live lonely lives, with...</td>\n",
       "      <td>There is a process called hard love.  This is ...</td>\n",
       "      <td>0.300000</td>\n",
       "      <td>0.200000</td>\n",
       "      <td>0</td>\n",
       "      <td>0</td>\n",
       "    </tr>\n",
       "    <tr>\n",
       "      <th>...</th>\n",
       "      <td>...</td>\n",
       "      <td>...</td>\n",
       "      <td>...</td>\n",
       "      <td>...</td>\n",
       "      <td>...</td>\n",
       "      <td>...</td>\n",
       "    </tr>\n",
       "    <tr>\n",
       "      <th>99995</th>\n",
       "      <td>You ought to acknowledge, then, that your last...</td>\n",
       "      <td>I feel for the family in their quest for answe...</td>\n",
       "      <td>0.300000</td>\n",
       "      <td>0.166667</td>\n",
       "      <td>0</td>\n",
       "      <td>0</td>\n",
       "    </tr>\n",
       "    <tr>\n",
       "      <th>99996</th>\n",
       "      <td>Not even 2 months in office and his administra...</td>\n",
       "      <td>Did you run out of \"Active\" monikers Edwin. Ha...</td>\n",
       "      <td>0.500000</td>\n",
       "      <td>0.100000</td>\n",
       "      <td>0</td>\n",
       "      <td>0</td>\n",
       "    </tr>\n",
       "    <tr>\n",
       "      <th>99997</th>\n",
       "      <td>I find your constant preoccupation with sex an...</td>\n",
       "      <td>More silliness from the sawed off wanna be dic...</td>\n",
       "      <td>0.500000</td>\n",
       "      <td>0.360656</td>\n",
       "      <td>0</td>\n",
       "      <td>0</td>\n",
       "    </tr>\n",
       "    <tr>\n",
       "      <th>99998</th>\n",
       "      <td>This reply deserved a genuine response imo.\\n....</td>\n",
       "      <td>Wikipedia says etizolam: 'marketed under the b...</td>\n",
       "      <td>0.166667</td>\n",
       "      <td>0.000000</td>\n",
       "      <td>0</td>\n",
       "      <td>0</td>\n",
       "    </tr>\n",
       "    <tr>\n",
       "      <th>99999</th>\n",
       "      <td>OHA with its hundreds of millions in assets pr...</td>\n",
       "      <td>Looks like the \"Bernie or BUST\" people turned ...</td>\n",
       "      <td>0.500000</td>\n",
       "      <td>0.166667</td>\n",
       "      <td>0</td>\n",
       "      <td>0</td>\n",
       "    </tr>\n",
       "  </tbody>\n",
       "</table>\n",
       "<p>100000 rows × 6 columns</p>\n",
       "</div>"
      ],
      "text/plain": [
       "                                         more_toxic_text  \\\n",
       "0      Nobody mocked anybody's death, Beavis. You jus...   \n",
       "1      Omg, seriously? Natural News? That's one of th...   \n",
       "2      Same lame arguments we heard in 2010 about Mea...   \n",
       "3      Truth is allie is the sore loser.  Still hasn'...   \n",
       "4      So you do want gays to live lonely lives, with...   \n",
       "...                                                  ...   \n",
       "99995  You ought to acknowledge, then, that your last...   \n",
       "99996  Not even 2 months in office and his administra...   \n",
       "99997  I find your constant preoccupation with sex an...   \n",
       "99998  This reply deserved a genuine response imo.\\n....   \n",
       "99999  OHA with its hundreds of millions in assets pr...   \n",
       "\n",
       "                                         less_toxic_text  toxicity_more_toxic  \\\n",
       "0      It's called \"being economical with the truth\" ...             0.600000   \n",
       "1      You will know that negotiations are not going ...             0.400000   \n",
       "2      That bumper is an easy touch up with paint kit...             0.000000   \n",
       "3                                 He won't do jail time.             0.500000   \n",
       "4      There is a process called hard love.  This is ...             0.300000   \n",
       "...                                                  ...                  ...   \n",
       "99995  I feel for the family in their quest for answe...             0.300000   \n",
       "99996  Did you run out of \"Active\" monikers Edwin. Ha...             0.500000   \n",
       "99997  More silliness from the sawed off wanna be dic...             0.500000   \n",
       "99998  Wikipedia says etizolam: 'marketed under the b...             0.166667   \n",
       "99999  Looks like the \"Bernie or BUST\" people turned ...             0.500000   \n",
       "\n",
       "       toxicity_less_toxic  labels_more_toxic  labels_less_toxic  \n",
       "0                 0.000000                  1                  0  \n",
       "1                 0.200000                  0                  0  \n",
       "2                 0.000000                  0                  0  \n",
       "3                 0.000000                  0                  0  \n",
       "4                 0.200000                  0                  0  \n",
       "...                    ...                ...                ...  \n",
       "99995             0.166667                  0                  0  \n",
       "99996             0.100000                  0                  0  \n",
       "99997             0.360656                  0                  0  \n",
       "99998             0.000000                  0                  0  \n",
       "99999             0.166667                  0                  0  \n",
       "\n",
       "[100000 rows x 6 columns]"
      ]
     },
     "execution_count": 8,
     "metadata": {},
     "output_type": "execute_result"
    }
   ],
   "source": [
    "## make new dataframe\n",
    "toxic = toxic_dataset(df = toxicity_train, text = toxicity_train.comment_text, \n",
    "                      toxicity = toxicity_train.target, size = int(1e5), label = toxicity_train.label, seed = 1011)\n",
    "\n",
    "toxic.make_dataframe(down_sample = True, make_pairs = True)\n",
    "\n",
    "toxic.df"
   ]
  },
  {
   "cell_type": "markdown",
   "metadata": {},
   "source": [
    "##### Text cleaning"
   ]
  },
  {
   "cell_type": "code",
   "execution_count": null,
   "metadata": {},
   "outputs": [],
   "source": []
  },
  {
   "cell_type": "code",
   "execution_count": null,
   "metadata": {},
   "outputs": [],
   "source": []
  },
  {
   "cell_type": "markdown",
   "metadata": {},
   "source": [
    "##### Random Trials"
   ]
  },
  {
   "cell_type": "code",
   "execution_count": null,
   "metadata": {},
   "outputs": [],
   "source": [
    "# take a look at distribution\n",
    "print(toxicity_train.severe_toxicity.describe()) ## unbalanced sample\n",
    "\n",
    "fig, ax = plt.subplots(1,1, figsize = (8,4))\n",
    "sns.set(style=\"whitegrid\") \n",
    "sns.histplot(toxicity_train.severe_toxicity, binwidth = .05, color = violet, ax = ax)\n"
   ]
  },
  {
   "cell_type": "code",
   "execution_count": null,
   "metadata": {},
   "outputs": [],
   "source": [
    "train_jtc = pd.read_csv(f'{os.path.join(train_path, \"train_jtc.csv\")}')\n",
    "train_jtc.nunique()"
   ]
  },
  {
   "cell_type": "code",
   "execution_count": null,
   "metadata": {},
   "outputs": [],
   "source": [
    "# take a look at distribution\n",
    "print(train_jtc.toxic.describe()) ## unbalanced sample\n",
    "\n",
    "fig, ax = plt.subplots(1,1, figsize = (8,4))\n",
    "sns.set(style=\"whitegrid\") \n",
    "sns.histplot(train_jtc.toxic, binwidth = .05, color = violet, ax = ax)"
   ]
  },
  {
   "cell_type": "code",
   "execution_count": null,
   "metadata": {},
   "outputs": [],
   "source": []
  }
 ],
 "metadata": {
  "kernelspec": {
   "display_name": "Python 3",
   "language": "python",
   "name": "python3"
  },
  "language_info": {
   "codemirror_mode": {
    "name": "ipython",
    "version": 3
   },
   "file_extension": ".py",
   "mimetype": "text/x-python",
   "name": "python",
   "nbconvert_exporter": "python",
   "pygments_lexer": "ipython3",
   "version": "3.8.6"
  }
 },
 "nbformat": 4,
 "nbformat_minor": 4
}
