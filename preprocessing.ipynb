{
 "cells": [
  {
   "cell_type": "code",
   "execution_count": 46,
   "metadata": {},
   "outputs": [
    {
     "name": "stdout",
     "output_type": "stream",
     "text": [
      "\u001b[33mWARNING: You are using pip version 20.2.3; however, version 23.3.1 is available.\n",
      "You should consider upgrading via the '/share/apps/python/3.8.6/intel/bin/python -m pip install --upgrade pip' command.\u001b[0m\n"
     ]
    }
   ],
   "source": [
    "!pip install -q -r requirements.txt\n",
    "from transformers import AutoTokenizer\n",
    "from transformers import AutoModelForSequenceClassification\n",
    "from datasets import Dataset, DatasetDict, load_dataset, Features, Value\n",
    "\n",
    "import torch\n",
    "import torch.nn as nn\n",
    "from torch.utils.data import DataLoader, RandomSampler\n",
    "from torch.optim import AdamW\n",
    "from transformers import get_scheduler\n",
    "from tqdm import tqdm\n",
    "from tqdm.notebook import tqdm\n",
    "import evaluate\n",
    "import numpy as np\n",
    "from torch.nn import functional as F\n",
    "from typing import Union\n",
    "import matplotlib.pyplot as plt\n",
    "import seaborn as sns\n",
    "import os \n",
    "import pandas as pd\n",
    "from collections import Counter\n",
    "from dataset_class import *\n",
    "from text_clean import *\n",
    "from BertDataSet import *\n",
    "from utils import *\n",
    "sns.set_style('whitegrid')\n",
    "\n",
    "import warnings\n",
    "import sklearn.exceptions\n",
    "warnings.filterwarnings('ignore', category=DeprecationWarning)\n",
    "warnings.filterwarnings('ignore', category=UserWarning)\n",
    "warnings.filterwarnings('ignore', category=FutureWarning)\n",
    "warnings.filterwarnings(\"ignore\", category=sklearn.exceptions.UndefinedMetricWarning)\n",
    "\n",
    "violet = '#702b9d'\n",
    "RANDOM_SEED = 1011"
   ]
  },
  {
   "cell_type": "code",
   "execution_count": 3,
   "metadata": {},
   "outputs": [
    {
     "data": {
      "text/plain": [
       "device(type='cuda')"
      ]
     },
     "execution_count": 3,
     "metadata": {},
     "output_type": "execute_result"
    }
   ],
   "source": [
    "device = torch.device(\"cuda\") if torch.cuda.is_available() else torch.device(\"cpu\")\n",
    "device"
   ]
  },
  {
   "cell_type": "markdown",
   "metadata": {},
   "source": [
    "##### loading\n",
    "---"
   ]
  },
  {
   "cell_type": "code",
   "execution_count": 4,
   "metadata": {},
   "outputs": [],
   "source": [
    "train_path = '/scratch/' + os.environ.get(\"USER\", \"\") + '/data/jigsaw_training'\n",
    "val_path =  '/scratch/' + os.environ.get(\"USER\", \"\") + '/data/jigsaw_validation'\n",
    "training_file_path = os.path.join(train_path, 'train.csv')\n",
    "validation_file_path = os.path.join(val_path, 'validation_data.csv')"
   ]
  },
  {
   "cell_type": "markdown",
   "metadata": {},
   "source": [
    "###### **training**"
   ]
  },
  {
   "cell_type": "code",
   "execution_count": 5,
   "metadata": {},
   "outputs": [],
   "source": [
    "toxicity_train = pd.read_csv(f'{training_file_path}')\n",
    "toxicity_train['label'] = np.where(toxicity_train.target > 0.5, 1, 0)"
   ]
  },
  {
   "cell_type": "code",
   "execution_count": 6,
   "metadata": {},
   "outputs": [
    {
     "name": "stdout",
     "output_type": "stream",
     "text": [
      "count    1.804874e+06\n",
      "mean     1.030173e-01\n",
      "std      1.970757e-01\n",
      "min      0.000000e+00\n",
      "25%      0.000000e+00\n",
      "50%      0.000000e+00\n",
      "75%      1.666667e-01\n",
      "max      1.000000e+00\n",
      "Name: target, dtype: float64\n"
     ]
    },
    {
     "data": {
      "text/plain": [
       "<AxesSubplot:xlabel='target', ylabel='Count'>"
      ]
     },
     "execution_count": 6,
     "metadata": {},
     "output_type": "execute_result"
    },
    {
     "data": {
      "image/png": "[encoded data removed]",
      "text/plain": [
       "<Figure size 576x288 with 1 Axes>"
      ]
     },
     "metadata": {},
     "output_type": "display_data"
    }
   ],
   "source": [
    "# take a look at distribution\n",
    "print(toxicity_train.target.describe()) ## unbalanced sample\n",
    "\n",
    "fig, ax = plt.subplots(1,1, figsize = (8,4))\n",
    "sns.set(style=\"whitegrid\") \n",
    "sns.histplot(toxicity_train.target, binwidth = .05, color = violet, ax = ax)"
   ]
  },
  {
   "cell_type": "markdown",
   "metadata": {},
   "source": [
    "###### **validation**"
   ]
  },
  {
   "cell_type": "code",
   "execution_count": 7,
   "metadata": {},
   "outputs": [
    {
     "name": "stdout",
     "output_type": "stream",
     "text": [
      "worker          753\n",
      "less_toxic    11532\n",
      "more_toxic    11678\n",
      "dtype: int64\n",
      "(30108, 3)\n"
     ]
    }
   ],
   "source": [
    "toxicity_valid = pd.read_csv(f'{validation_file_path}')\n",
    "print(toxicity_valid.nunique())\n",
    "print(toxicity_valid.shape)"
   ]
  },
  {
   "cell_type": "code",
   "execution_count": 8,
   "metadata": {},
   "outputs": [],
   "source": [
    "## preprocess validation dataset \n",
    "texts = set(toxicity_valid.less_toxic.to_list() + toxicity_valid.more_toxic.to_list())\n",
    "text2id = {t:id for id,t in enumerate(texts)}\n",
    "toxicity_valid['less_id'] = toxicity_valid['less_toxic'].map(text2id)\n",
    "toxicity_valid['more_id'] = toxicity_valid['more_toxic'].map(text2id)\n",
    "toxicity_valid_grouped = (toxicity_valid.groupby(['less_id', 'more_id']).first()\\\n",
    "                          .reset_index().drop(['less_id', 'more_id'], axis = 1).drop(['worker'], axis = 1))\n",
    "toxicity_valid_grouped.rename(columns = {'less_toxic':'less_toxic_text', 'more_toxic':'more_toxic_text'}, inplace = True)"
   ]
  },
  {
   "cell_type": "code",
   "execution_count": 9,
   "metadata": {},
   "outputs": [
    {
     "data": {
      "text/html": [
       "<div>\n",
       "<style scoped>\n",
       "    .dataframe tbody tr th:only-of-type {\n",
       "        vertical-align: middle;\n",
       "    }\n",
       "\n",
       "    .dataframe tbody tr th {\n",
       "        vertical-align: top;\n",
       "    }\n",
       "\n",
       "    .dataframe thead th {\n",
       "        text-align: right;\n",
       "    }\n",
       "</style>\n",
       "<table border=\"1\" class=\"dataframe\">\n",
       "  <thead>\n",
       "    <tr style=\"text-align: right;\">\n",
       "      <th></th>\n",
       "      <th>less_toxic_text</th>\n",
       "      <th>more_toxic_text</th>\n",
       "    </tr>\n",
       "  </thead>\n",
       "  <tbody>\n",
       "    <tr>\n",
       "      <th>0</th>\n",
       "      <td>Deletion!?!??!?\\n\\nWhy the hell would Calton p...</td>\n",
       "      <td>CKCKCKCK\\nYo i see u tryin 2 change shit wit C...</td>\n",
       "    </tr>\n",
       "    <tr>\n",
       "      <th>1</th>\n",
       "      <td>Deletion!?!??!?\\n\\nWhy the hell would Calton p...</td>\n",
       "      <td>What did I do that was vandalism first of all ...</td>\n",
       "    </tr>\n",
       "    <tr>\n",
       "      <th>2</th>\n",
       "      <td>on how crap you talk</td>\n",
       "      <td>u got a problem? commie</td>\n",
       "    </tr>\n",
       "    <tr>\n",
       "      <th>3</th>\n",
       "      <td>You are just Jealous \\n\\nthat you aren't a pa...</td>\n",
       "      <td>Todo speedy deletion candidates \\n\\nI do not ...</td>\n",
       "    </tr>\n",
       "    <tr>\n",
       "      <th>4</th>\n",
       "      <td>You are just Jealous \\n\\nthat you aren't a pa...</td>\n",
       "      <td>\"ee\\nI agree, but there are enough editors thi...</td>\n",
       "    </tr>\n",
       "    <tr>\n",
       "      <th>...</th>\n",
       "      <td>...</td>\n",
       "      <td>...</td>\n",
       "    </tr>\n",
       "    <tr>\n",
       "      <th>15405</th>\n",
       "      <td>Hey, that's a good tactic: calling everyone wi...</td>\n",
       "      <td>Sexism \\n\\nI've tried my hardest to explain t...</td>\n",
       "    </tr>\n",
       "    <tr>\n",
       "      <th>15406</th>\n",
       "      <td>\"\\n\\nStrider (novel) by Beverly Clearly.   Peo...</td>\n",
       "      <td>We are Wikipedia. We will assimilate you. If w...</td>\n",
       "    </tr>\n",
       "    <tr>\n",
       "      <th>15407</th>\n",
       "      <td>\"\\n\\nStrider (novel) by Beverly Clearly.   Peo...</td>\n",
       "      <td>Allah... \\n\\nAllah, a Muslims version of Sant...</td>\n",
       "    </tr>\n",
       "    <tr>\n",
       "      <th>15408</th>\n",
       "      <td>And I GAVE you people sources, and that still ...</td>\n",
       "      <td>I'll go back to the Dutch Wiki - mwaaaaaaaahah...</td>\n",
       "    </tr>\n",
       "    <tr>\n",
       "      <th>15409</th>\n",
       "      <td>what happened, is the protocol of the Zionist,...</td>\n",
       "      <td>I know what the HECK you are doing you damn Us...</td>\n",
       "    </tr>\n",
       "  </tbody>\n",
       "</table>\n",
       "<p>15410 rows × 2 columns</p>\n",
       "</div>"
      ],
      "text/plain": [
       "                                         less_toxic_text  \\\n",
       "0      Deletion!?!??!?\\n\\nWhy the hell would Calton p...   \n",
       "1      Deletion!?!??!?\\n\\nWhy the hell would Calton p...   \n",
       "2                                   on how crap you talk   \n",
       "3       You are just Jealous \\n\\nthat you aren't a pa...   \n",
       "4       You are just Jealous \\n\\nthat you aren't a pa...   \n",
       "...                                                  ...   \n",
       "15405  Hey, that's a good tactic: calling everyone wi...   \n",
       "15406  \"\\n\\nStrider (novel) by Beverly Clearly.   Peo...   \n",
       "15407  \"\\n\\nStrider (novel) by Beverly Clearly.   Peo...   \n",
       "15408  And I GAVE you people sources, and that still ...   \n",
       "15409  what happened, is the protocol of the Zionist,...   \n",
       "\n",
       "                                         more_toxic_text  \n",
       "0      CKCKCKCK\\nYo i see u tryin 2 change shit wit C...  \n",
       "1      What did I do that was vandalism first of all ...  \n",
       "2                                u got a problem? commie  \n",
       "3       Todo speedy deletion candidates \\n\\nI do not ...  \n",
       "4      \"ee\\nI agree, but there are enough editors thi...  \n",
       "...                                                  ...  \n",
       "15405   Sexism \\n\\nI've tried my hardest to explain t...  \n",
       "15406  We are Wikipedia. We will assimilate you. If w...  \n",
       "15407   Allah... \\n\\nAllah, a Muslims version of Sant...  \n",
       "15408  I'll go back to the Dutch Wiki - mwaaaaaaaahah...  \n",
       "15409  I know what the HECK you are doing you damn Us...  \n",
       "\n",
       "[15410 rows x 2 columns]"
      ]
     },
     "execution_count": 9,
     "metadata": {},
     "output_type": "execute_result"
    }
   ],
   "source": [
    "toxicity_valid_grouped.to_csv(f'{val_path}/validation_grouped.csv')\n",
    "toxicity_valid_grouped"
   ]
  },
  {
   "cell_type": "code",
   "execution_count": 8,
   "metadata": {},
   "outputs": [
    {
     "name": "stdout",
     "output_type": "stream",
     "text": [
      "paired up ...\n",
      "made new dataframe ...\n"
     ]
    },
    {
     "data": {
      "text/html": [
       "<div>\n",
       "<style scoped>\n",
       "    .dataframe tbody tr th:only-of-type {\n",
       "        vertical-align: middle;\n",
       "    }\n",
       "\n",
       "    .dataframe tbody tr th {\n",
       "        vertical-align: top;\n",
       "    }\n",
       "\n",
       "    .dataframe thead th {\n",
       "        text-align: right;\n",
       "    }\n",
       "</style>\n",
       "<table border=\"1\" class=\"dataframe\">\n",
       "  <thead>\n",
       "    <tr style=\"text-align: right;\">\n",
       "      <th></th>\n",
       "      <th>more_toxic_text</th>\n",
       "      <th>less_toxic_text</th>\n",
       "      <th>toxicity_more_toxic</th>\n",
       "      <th>toxicity_less_toxic</th>\n",
       "      <th>labels_more_toxic</th>\n",
       "      <th>labels_less_toxic</th>\n",
       "    </tr>\n",
       "  </thead>\n",
       "  <tbody>\n",
       "    <tr>\n",
       "      <th>0</th>\n",
       "      <td>To enjoy frustration and helplessness of Obama...</td>\n",
       "      <td>Well the issues of gender oppression &amp; forced ...</td>\n",
       "      <td>0.166667</td>\n",
       "      <td>0.100000</td>\n",
       "      <td>0</td>\n",
       "      <td>0</td>\n",
       "    </tr>\n",
       "    <tr>\n",
       "      <th>1</th>\n",
       "      <td>\"Trudeau Liberals' national climate deal to ha...</td>\n",
       "      <td>The \"stoners\" don't really care, since they ca...</td>\n",
       "      <td>0.800000</td>\n",
       "      <td>0.200000</td>\n",
       "      <td>1</td>\n",
       "      <td>0</td>\n",
       "    </tr>\n",
       "    <tr>\n",
       "      <th>2</th>\n",
       "      <td>Actually, Carl, Hillary's crimes, lies and soc...</td>\n",
       "      <td>If you are doing business in a public forum an...</td>\n",
       "      <td>0.300000</td>\n",
       "      <td>0.166667</td>\n",
       "      <td>0</td>\n",
       "      <td>0</td>\n",
       "    </tr>\n",
       "    <tr>\n",
       "      <th>3</th>\n",
       "      <td>Liberals are stupid, unskilled immigrants are ...</td>\n",
       "      <td>Most Catholics have no alternative to the Novu...</td>\n",
       "      <td>0.883333</td>\n",
       "      <td>0.200000</td>\n",
       "      <td>1</td>\n",
       "      <td>0</td>\n",
       "    </tr>\n",
       "    <tr>\n",
       "      <th>4</th>\n",
       "      <td>As usual, Trump is right on.\\n\\nThink about it...</td>\n",
       "      <td>There's a couple of pretty big differences; an...</td>\n",
       "      <td>0.200000</td>\n",
       "      <td>0.111111</td>\n",
       "      <td>0</td>\n",
       "      <td>0</td>\n",
       "    </tr>\n",
       "    <tr>\n",
       "      <th>...</th>\n",
       "      <td>...</td>\n",
       "      <td>...</td>\n",
       "      <td>...</td>\n",
       "      <td>...</td>\n",
       "      <td>...</td>\n",
       "      <td>...</td>\n",
       "    </tr>\n",
       "    <tr>\n",
       "      <th>99995</th>\n",
       "      <td>Having recently returned from a few of the so-...</td>\n",
       "      <td>@Bob Hawley and @Connie S,\\n\\nThe apparently d...</td>\n",
       "      <td>0.166667</td>\n",
       "      <td>0.000000</td>\n",
       "      <td>0</td>\n",
       "      <td>0</td>\n",
       "    </tr>\n",
       "    <tr>\n",
       "      <th>99996</th>\n",
       "      <td>So nothing concrete to protest, they just do n...</td>\n",
       "      <td>And Obama appointed his basketball buddy. We s...</td>\n",
       "      <td>0.166667</td>\n",
       "      <td>0.166667</td>\n",
       "      <td>0</td>\n",
       "      <td>0</td>\n",
       "    </tr>\n",
       "    <tr>\n",
       "      <th>99997</th>\n",
       "      <td>Stand behind your President guys, that is how ...</td>\n",
       "      <td>To continue, Walter, you write:\\n\\n\"In regard ...</td>\n",
       "      <td>0.500000</td>\n",
       "      <td>0.166667</td>\n",
       "      <td>0</td>\n",
       "      <td>0</td>\n",
       "    </tr>\n",
       "    <tr>\n",
       "      <th>99998</th>\n",
       "      <td>I saw it on the news the night BEFORE his spee...</td>\n",
       "      <td>Of course he isn't Mariota, but he's not Jonse...</td>\n",
       "      <td>0.166667</td>\n",
       "      <td>0.166667</td>\n",
       "      <td>0</td>\n",
       "      <td>0</td>\n",
       "    </tr>\n",
       "    <tr>\n",
       "      <th>99999</th>\n",
       "      <td>They are all broke because of mismanagement.  ...</td>\n",
       "      <td>It's not a public sex offender registry.  It a...</td>\n",
       "      <td>0.400000</td>\n",
       "      <td>0.300000</td>\n",
       "      <td>0</td>\n",
       "      <td>0</td>\n",
       "    </tr>\n",
       "  </tbody>\n",
       "</table>\n",
       "<p>100000 rows × 6 columns</p>\n",
       "</div>"
      ],
      "text/plain": [
       "                                         more_toxic_text  \\\n",
       "0      To enjoy frustration and helplessness of Obama...   \n",
       "1      \"Trudeau Liberals' national climate deal to ha...   \n",
       "2      Actually, Carl, Hillary's crimes, lies and soc...   \n",
       "3      Liberals are stupid, unskilled immigrants are ...   \n",
       "4      As usual, Trump is right on.\\n\\nThink about it...   \n",
       "...                                                  ...   \n",
       "99995  Having recently returned from a few of the so-...   \n",
       "99996  So nothing concrete to protest, they just do n...   \n",
       "99997  Stand behind your President guys, that is how ...   \n",
       "99998  I saw it on the news the night BEFORE his spee...   \n",
       "99999  They are all broke because of mismanagement.  ...   \n",
       "\n",
       "                                         less_toxic_text  toxicity_more_toxic  \\\n",
       "0      Well the issues of gender oppression & forced ...             0.166667   \n",
       "1      The \"stoners\" don't really care, since they ca...             0.800000   \n",
       "2      If you are doing business in a public forum an...             0.300000   \n",
       "3      Most Catholics have no alternative to the Novu...             0.883333   \n",
       "4      There's a couple of pretty big differences; an...             0.200000   \n",
       "...                                                  ...                  ...   \n",
       "99995  @Bob Hawley and @Connie S,\\n\\nThe apparently d...             0.166667   \n",
       "99996  And Obama appointed his basketball buddy. We s...             0.166667   \n",
       "99997  To continue, Walter, you write:\\n\\n\"In regard ...             0.500000   \n",
       "99998  Of course he isn't Mariota, but he's not Jonse...             0.166667   \n",
       "99999  It's not a public sex offender registry.  It a...             0.400000   \n",
       "\n",
       "       toxicity_less_toxic  labels_more_toxic  labels_less_toxic  \n",
       "0                 0.100000                  0                  0  \n",
       "1                 0.200000                  1                  0  \n",
       "2                 0.166667                  0                  0  \n",
       "3                 0.200000                  1                  0  \n",
       "4                 0.111111                  0                  0  \n",
       "...                    ...                ...                ...  \n",
       "99995             0.000000                  0                  0  \n",
       "99996             0.166667                  0                  0  \n",
       "99997             0.166667                  0                  0  \n",
       "99998             0.166667                  0                  0  \n",
       "99999             0.300000                  0                  0  \n",
       "\n",
       "[100000 rows x 6 columns]"
      ]
     },
     "execution_count": 8,
     "metadata": {},
     "output_type": "execute_result"
    }
   ],
   "source": [
    "## make new dataframe\n",
    "toxic = toxic_dataset(df = toxicity_train, text = toxicity_train.comment_text, \n",
    "                      toxicity = toxicity_train.target, size = int(1e5), label = toxicity_train.label, seed = 1011)\n",
    "\n",
    "toxic.make_dataframe(down_sample = True, make_pairs = True, threshold = 0.01)\n",
    "\n",
    "toxicity_train_paired = toxic.df\n",
    "toxicity_train_paired.to_csv(f'{train_path}/train_paired.csv')\n",
    "toxic.df"
   ]
  },
  {
   "cell_type": "code",
   "execution_count": 9,
   "metadata": {},
   "outputs": [
    {
     "data": {
      "image/png": "[encoded data removed]",
      "text/plain": [
       "<Figure size 1008x288 with 2 Axes>"
      ]
     },
     "metadata": {},
     "output_type": "display_data"
    }
   ],
   "source": [
    "# take a look at distribution\n",
    "fontsize = 12\n",
    "fig, ax = plt.subplots(1,2, figsize = (14,4))\n",
    "sns.set(style=\"whitegrid\") \n",
    "sns.histplot(toxicity_train_paired.toxicity_more_toxic, binwidth = .05, \n",
    "             color = violet, ax = ax[0], label = 'more toxic')\n",
    "sns.histplot(toxicity_train_paired.toxicity_less_toxic, binwidth = .05, \n",
    "             color = 'darkgray', alpha = 0.5, ax = ax[1], label = 'less toxic')\n",
    "fig.savefig(f'{os.getcwd()}/output/paired_toxicity_dist.png', bbox_inches = 'tight', dpi = 300)"
   ]
  },
  {
   "cell_type": "markdown",
   "metadata": {},
   "source": [
    "##### Text cleaning (optional)\n",
    "---"
   ]
  },
  {
   "cell_type": "code",
   "execution_count": 26,
   "metadata": {},
   "outputs": [],
   "source": [
    "## probably should be parallelized on GPU \n",
    "toxic.df.more_toxic_text = toxic.df.more_toxic_text.map(text_cleaning)\n",
    "toxic.df.less_toxic_text = toxic.df.less_toxic_text.map(text_cleaning)"
   ]
  },
  {
   "cell_type": "code",
   "execution_count": null,
   "metadata": {},
   "outputs": [],
   "source": [
    "toxic.df.to_json(f'{train_path}/train_paired_cleaned.json')\n",
    "toxic.df"
   ]
  },
  {
   "cell_type": "code",
   "execution_count": null,
   "metadata": {},
   "outputs": [],
   "source": [
    "toxicity_valid_grouped.less_toxic_text = toxicity_valid_grouped.less_toxic_text.map(text_cleaning)\n",
    "toxicity_valid_grouped.more_toxic_text = toxicity_valid_grouped.more_toxic_text.map(text_cleaning)\n",
    "toxicity_valid_grouped.to_csv(f'{val_path}/val_cleaned.json')"
   ]
  },
  {
   "cell_type": "markdown",
   "metadata": {},
   "source": [
    "##### Prepare data for Datasets (optional)\n",
    "---"
   ]
  },
  {
   "cell_type": "code",
   "execution_count": 5,
   "metadata": {},
   "outputs": [
    {
     "data": {
      "application/vnd.jupyter.widget-view+json": {
       "model_id": "ea15ed50291c47b285c5fe28488125a1",
       "version_major": 2,
       "version_minor": 0
      },
      "text/plain": [
       "Downloading data files:   0%|          | 0/1 [00:00<?, ?it/s]"
      ]
     },
     "metadata": {},
     "output_type": "display_data"
    },
    {
     "data": {
      "application/vnd.jupyter.widget-view+json": {
       "model_id": "2b7a123859d24bba9d0289c2138ba4c6",
       "version_major": 2,
       "version_minor": 0
      },
      "text/plain": [
       "Extracting data files:   0%|          | 0/1 [00:00<?, ?it/s]"
      ]
     },
     "metadata": {},
     "output_type": "display_data"
    },
    {
     "data": {
      "application/vnd.jupyter.widget-view+json": {
       "model_id": "72f3dc828a85459c8dbed8a7c029cfd7",
       "version_major": 2,
       "version_minor": 0
      },
      "text/plain": [
       "Generating test split: 0 examples [00:00, ? examples/s]"
      ]
     },
     "metadata": {},
     "output_type": "display_data"
    }
   ],
   "source": [
    "# add dummy labels to validation set\n",
    "train_set, val_set = 'train_paired_cleaned.csv', 'val_cleaned.csv' \n",
    "val_dataset = pd.read_csv(os.path.join(val_path, val_set))\n",
    "\n",
    "val_dataset['more_toxic_labels'] = -1\n",
    "val_dataset['less_toxic_labels'] = -1\n",
    "val_dataset.to_csv(f'{val_path}/val_cleaned.csv')\n",
    "\n",
    "train_dataset = load_dataset('csv', data_files = os.path.join(train_path, train_set))\n",
    "val_dataset = load_dataset('csv', data_files = {'test': os.path.join(val_path, val_set)})"
   ]
  },
  {
   "cell_type": "code",
   "execution_count": 6,
   "metadata": {},
   "outputs": [],
   "source": [
    "train_tokenized_dataset = BERTDataset(\n",
    "    more_toxic=train_dataset[\"train\"][\"more_toxic_text\"],\n",
    "    less_toxic=train_dataset[\"train\"][\"less_toxic_text\"],\n",
    "    labels_more_toxic=train_dataset[\"train\"][\"labels_more_toxic\"],\n",
    "    labels_less_toxic=train_dataset[\"train\"][\"labels_less_toxic\"],\n",
    ")"
   ]
  },
  {
   "cell_type": "code",
   "execution_count": 23,
   "metadata": {},
   "outputs": [],
   "source": [
    "def small_data_set(dataset, split, size = 100):\n",
    "    rng = np.random.default_rng(seed = RANDOM_SEED)\n",
    "    small_set = [dataset[split][int(i)] for i in rng.integers(0, len(dataset[split]), size = size)]\n",
    "    small_dataset = Dataset.from_list(small_set)\n",
    "    return small_dataset"
   ]
  },
  {
   "cell_type": "code",
   "execution_count": 51,
   "metadata": {},
   "outputs": [],
   "source": [
    "small_train_dataset = small_data_set(train_dataset, 'train', size = 1000)\n",
    "small_train_tokenized = BERTDataset(more_toxic=small_train_dataset['more_toxic_text'],\n",
    "                                      less_toxic= small_train_dataset['less_toxic_text'],\n",
    "                                      labels_more_toxic= small_train_dataset['labels_more_toxic'],\n",
    "                                      labels_less_toxic= small_train_dataset['labels_less_toxic'],)"
   ]
  },
  {
   "cell_type": "code",
   "execution_count": 55,
   "metadata": {},
   "outputs": [
    {
     "ename": "AttributeError",
     "evalue": "'DatasetDict' object has no attribute 'select'",
     "output_type": "error",
     "traceback": [
      "\u001b[0;31m---------------------------------------------------------------------------\u001b[0m",
      "\u001b[0;31mAttributeError\u001b[0m                            Traceback (most recent call last)",
      "\u001b[0;32m<ipython-input-55-0a89c57f87f2>\u001b[0m in \u001b[0;36m<module>\u001b[0;34m\u001b[0m\n\u001b[0;32m----> 1\u001b[0;31m \u001b[0mtrain_dataset\u001b[0m\u001b[0;34m.\u001b[0m\u001b[0mshuffle\u001b[0m\u001b[0;34m(\u001b[0m\u001b[0;34m)\u001b[0m\u001b[0;34m.\u001b[0m\u001b[0mselect\u001b[0m\u001b[0;34m(\u001b[0m\u001b[0mrange\u001b[0m\u001b[0;34m(\u001b[0m\u001b[0;36m10\u001b[0m\u001b[0;34m)\u001b[0m\u001b[0;34m)\u001b[0m\u001b[0;34m\u001b[0m\u001b[0;34m\u001b[0m\u001b[0m\n\u001b[0m",
      "\u001b[0;31mAttributeError\u001b[0m: 'DatasetDict' object has no attribute 'select'"
     ]
    }
   ],
   "source": [
    "train_dataset.shuffle().select(range(10))"
   ]
  },
  {
   "cell_type": "code",
   "execution_count": 53,
   "metadata": {},
   "outputs": [
    {
     "data": {
      "text/plain": [
       "list"
      ]
     },
     "execution_count": 53,
     "metadata": {},
     "output_type": "execute_result"
    }
   ],
   "source": []
  },
  {
   "cell_type": "code",
   "execution_count": null,
   "metadata": {},
   "outputs": [],
   "source": []
  },
  {
   "cell_type": "code",
   "execution_count": null,
   "metadata": {},
   "outputs": [],
   "source": []
  },
  {
   "cell_type": "code",
   "execution_count": null,
   "metadata": {},
   "outputs": [],
   "source": []
  },
  {
   "cell_type": "markdown",
   "metadata": {},
   "source": [
    "##### Failed Trials\n",
    "---"
   ]
  },
  {
   "cell_type": "code",
   "execution_count": null,
   "metadata": {},
   "outputs": [],
   "source": [
    "# take a look at distribution\n",
    "print(toxicity_train.severe_toxicity.describe()) ## unbalanced sample\n",
    "\n",
    "fig, ax = plt.subplots(1,1, figsize = (8,4))\n",
    "sns.set(style=\"whitegrid\") \n",
    "sns.histplot(toxicity_train.severe_toxicity, binwidth = .05, color = violet, ax = ax)\n"
   ]
  },
  {
   "cell_type": "code",
   "execution_count": null,
   "metadata": {},
   "outputs": [],
   "source": [
    "train_jtc = pd.read_csv(f'{os.path.join(train_path, \"train_jtc.csv\")}')\n",
    "train_jtc.nunique()"
   ]
  },
  {
   "cell_type": "code",
   "execution_count": null,
   "metadata": {},
   "outputs": [],
   "source": [
    "# take a look at distribution\n",
    "print(train_jtc.toxic.describe()) ## unbalanced sample\n",
    "\n",
    "fig, ax = plt.subplots(1,1, figsize = (8,4))\n",
    "sns.set(style=\"whitegrid\") \n",
    "sns.histplot(train_jtc.toxic, binwidth = .05, color = violet, ax = ax)"
   ]
  },
  {
   "cell_type": "code",
   "execution_count": null,
   "metadata": {},
   "outputs": [],
   "source": [
    "# no need to use with json\n",
    "\n",
    "train_set_features = Features(\n",
    "    {\n",
    "        \"more_toxic_text\": Value(\"string\"),\n",
    "        \"less_toxic_text\": Value(\"string\"),\n",
    "        \"toxicity_more_toxic\": Value(\"float64\"),\n",
    "        \"toxicity_less_toxic\": Value(\"float64\"),\n",
    "        \"labels_more_toxic\": Value(\"int64\"),\n",
    "        \"labels_less_toxic\": Value(\"int64\"),\n",
    "    }\n",
    ")\n",
    "\n",
    "val_set_features = Features(\n",
    "    {\n",
    "        \"more_toxic_text\": Value(\"string\"),\n",
    "        \"less_toxic_text\": Value(\"string\")}\n",
    ")"
   ]
  },
  {
   "cell_type": "code",
   "execution_count": 13,
   "metadata": {},
   "outputs": [
    {
     "data": {
      "application/vnd.jupyter.widget-view+json": {
       "model_id": "5fca151df2f0475cbdf4baaa42c03c18",
       "version_major": 2,
       "version_minor": 0
      },
      "text/plain": [
       "Downloading data files:   0%|          | 0/1 [00:00<?, ?it/s]"
      ]
     },
     "metadata": {},
     "output_type": "display_data"
    },
    {
     "data": {
      "application/vnd.jupyter.widget-view+json": {
       "model_id": "a6cf5ec4a7af43a685c89bee2ccca333",
       "version_major": 2,
       "version_minor": 0
      },
      "text/plain": [
       "Extracting data files:   0%|          | 0/1 [00:00<?, ?it/s]"
      ]
     },
     "metadata": {},
     "output_type": "display_data"
    },
    {
     "data": {
      "application/vnd.jupyter.widget-view+json": {
       "model_id": "a9eb88dbc7dd43b4be67ed8c47cbf029",
       "version_major": 2,
       "version_minor": 0
      },
      "text/plain": [
       "Generating test split: 0 examples [00:00, ? examples/s]"
      ]
     },
     "metadata": {},
     "output_type": "display_data"
    },
    {
     "data": {
      "application/vnd.jupyter.widget-view+json": {
       "model_id": "6b3127c58fa34cc786365360833e1a90",
       "version_major": 2,
       "version_minor": 0
      },
      "text/plain": [
       "Saving the dataset (0/1 shards):   0%|          | 0/1 [00:00<?, ? examples/s]"
      ]
     },
     "metadata": {},
     "output_type": "display_data"
    },
    {
     "data": {
      "application/vnd.jupyter.widget-view+json": {
       "model_id": "375368f58f5c4bf88f7419bb52e8c6fc",
       "version_major": 2,
       "version_minor": 0
      },
      "text/plain": [
       "Saving the dataset (0/1 shards):   0%|          | 0/1 [00:00<?, ? examples/s]"
      ]
     },
     "metadata": {},
     "output_type": "display_data"
    }
   ],
   "source": [
    "train_set, val_set = 'jigsaw_training/train_paired_cleaned.json', 'jigsaw_validation/val_cleaned.json' \n",
    "\n",
    "train_to_load = DatasetDict.from_json({'train': os.path.join(data_path, train_set)})\n",
    "val_to_load = DatasetDict.from_json({'test':os.path.join(data_path, val_set)})\n",
    "\n",
    "combined_dataset_dict = DatasetDict()\n",
    "combined_dataset_dict['train'] = train_to_load['train']\n",
    "combined_dataset_dict['val'] = val_to_load['test']\n",
    "\n",
    "combined_dataset_dict.save_to_disk(data_path)"
   ]
  },
  {
   "cell_type": "code",
   "execution_count": 6,
   "metadata": {},
   "outputs": [],
   "source": [
    "train_to_load = pd.read_json(f'{train_path}/train_paired_cleaned.json')\n",
    "val_to_load = pd.read_json(f'{val_path}/val_cleaned.json')\n",
    "\n",
    "data_path =  '/scratch/' + os.environ.get(\"USER\", \"\") + '/data/'\n",
    "train_set, val_set = 'jigsaw_training/train_paired_cleaned.json', 'jigsaw_validation/val_cleaned.json' "
   ]
  }
 ],
 "metadata": {
  "kernelspec": {
   "display_name": "Python 3",
   "language": "python",
   "name": "python3"
  },
  "language_info": {
   "codemirror_mode": {
    "name": "ipython",
    "version": 3
   },
   "file_extension": ".py",
   "mimetype": "text/x-python",
   "name": "python",
   "nbconvert_exporter": "python",
   "pygments_lexer": "ipython3",
   "version": "3.8.6"
  }
 },
 "nbformat": 4,
 "nbformat_minor": 4
}
