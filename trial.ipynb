{
 "cells": [
  {
   "cell_type": "code",
   "execution_count": null,
   "metadata": {},
   "outputs": [],
   "source": [
    "!pip install -q -r requirements.txt\n",
    "from transformers import AutoTokenizer\n",
    "from transformers import AutoModelForSequenceClassification\n",
    "from datasets import load_dataset\n",
    "import torch\n",
    "import torch.nn as nn\n",
    "from torch.utils.data import DataLoader\n",
    "from torch.optim import AdamW\n",
    "from transformers import get_scheduler\n",
    "from tqdm.auto import tqdm\n",
    "import evaluate\n",
    "import numpy as np\n",
    "from torch.nn import functional as F\n",
    "from typing import Union\n",
    "import matplotlib.pyplot as plt\n",
    "import seaborn as sns\n",
    "import os \n",
    "import pandas as pd\n",
    "from collections import Counter\n",
    "from dataset_class import *\n",
    "\n",
    "import warnings\n",
    "import sklearn.exceptions\n",
    "warnings.filterwarnings('ignore', category=DeprecationWarning)\n",
    "warnings.filterwarnings('ignore', category=UserWarning)\n",
    "warnings.filterwarnings('ignore', category=FutureWarning)\n",
    "warnings.filterwarnings(\"ignore\", category=sklearn.exceptions.UndefinedMetricWarning)\n",
    "\n",
    "violet = '#702b9d'"
   ]
  },
  {
   "cell_type": "code",
   "execution_count": 2,
   "metadata": {},
   "outputs": [],
   "source": [
    "train_path = '/scratch/' + os.environ.get(\"USER\", \"\") + '/data/jigsaw_training'\n",
    "val_path =  '/scratch/' + os.environ.get(\"USER\", \"\") + '/data/jigsaw_validation'\n",
    "training_file_path = os.path.join(train_path, 'train.csv')\n",
    "validation_file_path = os.path.join(val_path, 'validation_data.csv')"
   ]
  },
  {
   "cell_type": "code",
   "execution_count": 4,
   "metadata": {},
   "outputs": [],
   "source": [
    "toxicity_train = pd.read_csv(f'{training_file_path}')\n",
    "toxicity_train['label'] = np.where(toxicity_train.target > 0.5, 1, 0)"
   ]
  },
  {
   "cell_type": "code",
   "execution_count": 6,
   "metadata": {},
   "outputs": [
    {
     "name": "stdout",
     "output_type": "stream",
     "text": [
      "count    1.804874e+06\n",
      "mean     1.030173e-01\n",
      "std      1.970757e-01\n",
      "min      0.000000e+00\n",
      "25%      0.000000e+00\n",
      "50%      0.000000e+00\n",
      "75%      1.666667e-01\n",
      "max      1.000000e+00\n",
      "Name: target, dtype: float64\n"
     ]
    },
    {
     "data": {
      "text/plain": [
       "<AxesSubplot:xlabel='target', ylabel='Count'>"
      ]
     },
     "execution_count": 6,
     "metadata": {},
     "output_type": "execute_result"
    },
    {
     "data": {
      "image/png": "[encoded data removed]",
      "text/plain": [
       "<Figure size 576x288 with 1 Axes>"
      ]
     },
     "metadata": {
      "needs_background": "light"
     },
     "output_type": "display_data"
    }
   ],
   "source": [
    "# take a look at distribution\n",
    "print(toxicity_train.target.describe()) ## unbalanced sample\n",
    "\n",
    "fig, ax = plt.subplots(1,1, figsize = (8,4))\n",
    "sns.set(style=\"whitegrid\") \n",
    "sns.histplot(toxicity_train.target, binwidth = .05, color = violet, ax = ax)\n"
   ]
  },
  {
   "cell_type": "code",
   "execution_count": 5,
   "metadata": {},
   "outputs": [
    {
     "name": "stdout",
     "output_type": "stream",
     "text": [
      "paired up ...\n",
      "made new dataframe ...\n"
     ]
    },
    {
     "data": {
      "text/html": [
       "<div>\n",
       "<style scoped>\n",
       "    .dataframe tbody tr th:only-of-type {\n",
       "        vertical-align: middle;\n",
       "    }\n",
       "\n",
       "    .dataframe tbody tr th {\n",
       "        vertical-align: top;\n",
       "    }\n",
       "\n",
       "    .dataframe thead th {\n",
       "        text-align: right;\n",
       "    }\n",
       "</style>\n",
       "<table border=\"1\" class=\"dataframe\">\n",
       "  <thead>\n",
       "    <tr style=\"text-align: right;\">\n",
       "      <th></th>\n",
       "      <th>more_toxic_text</th>\n",
       "      <th>less_toxic_text</th>\n",
       "      <th>toxicity_more_toxic</th>\n",
       "      <th>toxicity_less_toxic</th>\n",
       "      <th>labels_more_toxic</th>\n",
       "      <th>labels_less_toxic</th>\n",
       "    </tr>\n",
       "  </thead>\n",
       "  <tbody>\n",
       "    <tr>\n",
       "      <th>0</th>\n",
       "      <td>Same lame arguments we heard in 2010 about Mea...</td>\n",
       "      <td>That bumper is an easy touch up with paint kit...</td>\n",
       "      <td>0.000000</td>\n",
       "      <td>0.000000</td>\n",
       "      <td>0</td>\n",
       "      <td>0</td>\n",
       "    </tr>\n",
       "    <tr>\n",
       "      <th>1</th>\n",
       "      <td>What a joke! Are these rump supporters even co...</td>\n",
       "      <td>meanwhile childish alt left hating lunatics li...</td>\n",
       "      <td>0.613333</td>\n",
       "      <td>0.481481</td>\n",
       "      <td>1</td>\n",
       "      <td>0</td>\n",
       "    </tr>\n",
       "    <tr>\n",
       "      <th>2</th>\n",
       "      <td>I believe 1Oakland.  Robert E. Lee was indicte...</td>\n",
       "      <td>Think Maliki very much did not want to be perc...</td>\n",
       "      <td>0.166667</td>\n",
       "      <td>0.000000</td>\n",
       "      <td>0</td>\n",
       "      <td>0</td>\n",
       "    </tr>\n",
       "    <tr>\n",
       "      <th>3</th>\n",
       "      <td>You are believing the liberal lies.   It is no...</td>\n",
       "      <td>Arroyo would probably be more at home at Breit...</td>\n",
       "      <td>0.318841</td>\n",
       "      <td>0.166667</td>\n",
       "      <td>0</td>\n",
       "      <td>0</td>\n",
       "    </tr>\n",
       "    <tr>\n",
       "      <th>4</th>\n",
       "      <td>This shows how the fake news is so stupid. If ...</td>\n",
       "      <td>It's not enough what the UO admin is doing is ...</td>\n",
       "      <td>0.754098</td>\n",
       "      <td>0.300000</td>\n",
       "      <td>1</td>\n",
       "      <td>0</td>\n",
       "    </tr>\n",
       "    <tr>\n",
       "      <th>...</th>\n",
       "      <td>...</td>\n",
       "      <td>...</td>\n",
       "      <td>...</td>\n",
       "      <td>...</td>\n",
       "      <td>...</td>\n",
       "      <td>...</td>\n",
       "    </tr>\n",
       "    <tr>\n",
       "      <th>9995</th>\n",
       "      <td>The Model T was cheap, but it was a dangerous ...</td>\n",
       "      <td>OK Dr. Corbiel: WickiU M.D.: pneumonia contrac...</td>\n",
       "      <td>0.500000</td>\n",
       "      <td>0.166667</td>\n",
       "      <td>0</td>\n",
       "      <td>0</td>\n",
       "    </tr>\n",
       "    <tr>\n",
       "      <th>9996</th>\n",
       "      <td>I personally have no problem with immigration....</td>\n",
       "      <td>So team Clinton wants to infiltrate the Cathol...</td>\n",
       "      <td>0.600000</td>\n",
       "      <td>0.300000</td>\n",
       "      <td>1</td>\n",
       "      <td>0</td>\n",
       "    </tr>\n",
       "    <tr>\n",
       "      <th>9997</th>\n",
       "      <td>Not even 2 months in office and his administra...</td>\n",
       "      <td>Did you run out of \"Active\" monikers Edwin. Ha...</td>\n",
       "      <td>0.500000</td>\n",
       "      <td>0.100000</td>\n",
       "      <td>0</td>\n",
       "      <td>0</td>\n",
       "    </tr>\n",
       "    <tr>\n",
       "      <th>9998</th>\n",
       "      <td>I find your constant preoccupation with sex an...</td>\n",
       "      <td>More silliness from the sawed off wanna be dic...</td>\n",
       "      <td>0.500000</td>\n",
       "      <td>0.360656</td>\n",
       "      <td>0</td>\n",
       "      <td>0</td>\n",
       "    </tr>\n",
       "    <tr>\n",
       "      <th>9999</th>\n",
       "      <td>That's what it comes down to for some people. ...</td>\n",
       "      <td>So this list will go on and on and on until it...</td>\n",
       "      <td>0.400000</td>\n",
       "      <td>0.166667</td>\n",
       "      <td>0</td>\n",
       "      <td>0</td>\n",
       "    </tr>\n",
       "  </tbody>\n",
       "</table>\n",
       "<p>10000 rows × 6 columns</p>\n",
       "</div>"
      ],
      "text/plain": [
       "                                        more_toxic_text  \\\n",
       "0     Same lame arguments we heard in 2010 about Mea...   \n",
       "1     What a joke! Are these rump supporters even co...   \n",
       "2     I believe 1Oakland.  Robert E. Lee was indicte...   \n",
       "3     You are believing the liberal lies.   It is no...   \n",
       "4     This shows how the fake news is so stupid. If ...   \n",
       "...                                                 ...   \n",
       "9995  The Model T was cheap, but it was a dangerous ...   \n",
       "9996  I personally have no problem with immigration....   \n",
       "9997  Not even 2 months in office and his administra...   \n",
       "9998  I find your constant preoccupation with sex an...   \n",
       "9999  That's what it comes down to for some people. ...   \n",
       "\n",
       "                                        less_toxic_text  toxicity_more_toxic  \\\n",
       "0     That bumper is an easy touch up with paint kit...             0.000000   \n",
       "1     meanwhile childish alt left hating lunatics li...             0.613333   \n",
       "2     Think Maliki very much did not want to be perc...             0.166667   \n",
       "3     Arroyo would probably be more at home at Breit...             0.318841   \n",
       "4     It's not enough what the UO admin is doing is ...             0.754098   \n",
       "...                                                 ...                  ...   \n",
       "9995  OK Dr. Corbiel: WickiU M.D.: pneumonia contrac...             0.500000   \n",
       "9996  So team Clinton wants to infiltrate the Cathol...             0.600000   \n",
       "9997  Did you run out of \"Active\" monikers Edwin. Ha...             0.500000   \n",
       "9998  More silliness from the sawed off wanna be dic...             0.500000   \n",
       "9999  So this list will go on and on and on until it...             0.400000   \n",
       "\n",
       "      toxicity_less_toxic  labels_more_toxic  labels_less_toxic  \n",
       "0                0.000000                  0                  0  \n",
       "1                0.481481                  1                  0  \n",
       "2                0.000000                  0                  0  \n",
       "3                0.166667                  0                  0  \n",
       "4                0.300000                  1                  0  \n",
       "...                   ...                ...                ...  \n",
       "9995             0.166667                  0                  0  \n",
       "9996             0.300000                  1                  0  \n",
       "9997             0.100000                  0                  0  \n",
       "9998             0.360656                  0                  0  \n",
       "9999             0.166667                  0                  0  \n",
       "\n",
       "[10000 rows x 6 columns]"
      ]
     },
     "execution_count": 5,
     "metadata": {},
     "output_type": "execute_result"
    }
   ],
   "source": [
    "## make new dataframe\n",
    "toxic = toxic_dataset(df = toxicity_train, text = toxicity_train.comment_text, \n",
    "                      toxicity = toxicity_train.target, size = 10000, label = toxicity_train.label, seed = 1011)\n",
    "\n",
    "toxic.make_dataframe(down_sample = True, make_pairs = True)\n",
    "\n",
    "toxic.df"
   ]
  },
  {
   "cell_type": "code",
   "execution_count": null,
   "metadata": {},
   "outputs": [],
   "source": [
    "# take a look at distribution\n",
    "print(toxicity_train.severe_toxicity.describe()) ## unbalanced sample\n",
    "\n",
    "fig, ax = plt.subplots(1,1, figsize = (8,4))\n",
    "sns.set(style=\"whitegrid\") \n",
    "sns.histplot(toxicity_train.severe_toxicity, binwidth = .05, color = violet, ax = ax)\n"
   ]
  },
  {
   "cell_type": "code",
   "execution_count": null,
   "metadata": {},
   "outputs": [],
   "source": [
    "train_jtc = pd.read_csv(f'{os.path.join(train_path, \"train_jtc.csv\")}')\n",
    "train_jtc.nunique()"
   ]
  },
  {
   "cell_type": "code",
   "execution_count": null,
   "metadata": {},
   "outputs": [],
   "source": [
    "# take a look at distribution\n",
    "print(train_jtc.toxic.describe()) ## unbalanced sample\n",
    "\n",
    "fig, ax = plt.subplots(1,1, figsize = (8,4))\n",
    "sns.set(style=\"whitegrid\") \n",
    "sns.histplot(train_jtc.toxic, binwidth = .05, color = violet, ax = ax)"
   ]
  },
  {
   "cell_type": "code",
   "execution_count": null,
   "metadata": {},
   "outputs": [],
   "source": [
    "toxicity_valid = pd.read_csv(f'{validation_file_path}')\n",
    "print(toxicity_valid.nunique())\n",
    "print(toxicity_valid.shape)"
   ]
  },
  {
   "cell_type": "code",
   "execution_count": null,
   "metadata": {},
   "outputs": [],
   "source": [
    "## preprocess validation dataset \n",
    "texts = set(toxicity_valid.less_toxic.to_list() + toxicity_valid.more_toxic.to_list())\n",
    "text2id = {t:id for id,t in enumerate(texts)}\n",
    "toxicity_valid['less_id'] = toxicity_valid['less_toxic'].map(text2id)\n",
    "toxicity_valid['more_id'] = toxicity_valid['more_toxic'].map(text2id)\n",
    "toxicity_valid_grouped = toxicity_valid.groupby(['less_id', 'more_id']).first().reset_index().drop(['less_id', 'more_id'], axis = 1)"
   ]
  },
  {
   "cell_type": "code",
   "execution_count": null,
   "metadata": {},
   "outputs": [],
   "source": [
    "toxicity_valid_grouped"
   ]
  },
  {
   "cell_type": "code",
   "execution_count": null,
   "metadata": {},
   "outputs": [],
   "source": []
  }
 ],
 "metadata": {
  "kernelspec": {
   "display_name": "Python 3",
   "language": "python",
   "name": "python3"
  },
  "language_info": {
   "codemirror_mode": {
    "name": "ipython",
    "version": 3
   },
   "file_extension": ".py",
   "mimetype": "text/x-python",
   "name": "python",
   "nbconvert_exporter": "python",
   "pygments_lexer": "ipython3",
   "version": "3.8.6"
  }
 },
 "nbformat": 4,
 "nbformat_minor": 4
}
