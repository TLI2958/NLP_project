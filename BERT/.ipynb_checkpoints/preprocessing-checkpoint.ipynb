{
 "cells": [
  {
   "cell_type": "code",
   "execution_count": 15,
   "metadata": {},
   "outputs": [
    {
     "name": "stdout",
     "output_type": "stream",
     "text": [
      "\u001b[33mWARNING: You are using pip version 20.2.3; however, version 23.3.1 is available.\n",
      "You should consider upgrading via the '/share/apps/python/3.8.6/intel/bin/python -m pip install --upgrade pip' command.\u001b[0m\n"
     ]
    }
   ],
   "source": [
    "!pip install -q -r requirements.txt\n",
    "from transformers import AutoTokenizer\n",
    "from transformers import AutoModelForSequenceClassification\n",
    "from datasets import Dataset, DatasetDict, load_dataset, Features, Value\n",
    "\n",
    "import torch\n",
    "import torch.nn as nn\n",
    "from torch.utils.data import DataLoader, RandomSampler\n",
    "from torch.optim import AdamW, lr_scheduler\n",
    "from transformers import get_scheduler\n",
    "from tqdm import tqdm\n",
    "from tqdm.notebook import tqdm\n",
    "import evaluate\n",
    "import numpy as np\n",
    "from torch.nn import functional as F\n",
    "from typing import Union\n",
    "import matplotlib.pyplot as plt\n",
    "import seaborn as sns\n",
    "import os \n",
    "import pandas as pd\n",
    "from collections import Counter\n",
    "from dataset_class import *\n",
    "from text_clean import *\n",
    "from BertDataSet import *\n",
    "from ToxicityModel import *\n",
    "from utils import *\n",
    "# from ToxicityModel import *\n",
    "sns.set_style('whitegrid')\n",
    "\n",
    "import warnings\n",
    "import sklearn.exceptions\n",
    "warnings.filterwarnings('ignore', category=DeprecationWarning)\n",
    "warnings.filterwarnings('ignore', category=UserWarning)\n",
    "warnings.filterwarnings('ignore', category=FutureWarning)\n",
    "warnings.filterwarnings(\"ignore\", category=sklearn.exceptions.UndefinedMetricWarning)\n",
    "\n",
    "violet = '#702b9d'\n",
    "RANDOM_SEED = 1011"
   ]
  },
  {
   "cell_type": "code",
   "execution_count": 2,
   "metadata": {},
   "outputs": [
    {
     "data": {
      "text/plain": [
       "device(type='cpu')"
      ]
     },
     "execution_count": 2,
     "metadata": {},
     "output_type": "execute_result"
    }
   ],
   "source": [
    "device = torch.device(\"cuda\") if torch.cuda.is_available() else torch.device(\"cpu\")\n",
    "device"
   ]
  },
  {
   "cell_type": "markdown",
   "metadata": {},
   "source": [
    "##### loading\n",
    "---"
   ]
  },
  {
   "cell_type": "code",
   "execution_count": 3,
   "metadata": {},
   "outputs": [],
   "source": [
    "train_path = '/scratch/' + os.environ.get(\"USER\", \"\") + '/data/jigsaw_training'\n",
    "val_path =  '/scratch/' + os.environ.get(\"USER\", \"\") + '/data/jigsaw_validation'\n",
    "training_file_path = os.path.join(train_path, 'train.csv')\n",
    "validation_file_path = os.path.join(val_path, 'validation_data.csv')"
   ]
  },
  {
   "cell_type": "markdown",
   "metadata": {},
   "source": [
    "###### **training**"
   ]
  },
  {
   "cell_type": "code",
   "execution_count": 5,
   "metadata": {},
   "outputs": [],
   "source": [
    "toxicity_train = pd.read_csv(f'{training_file_path}')\n",
    "toxicity_train['label'] = np.where(toxicity_train.target > 0.5, 1, 0)"
   ]
  },
  {
   "cell_type": "code",
   "execution_count": 6,
   "metadata": {},
   "outputs": [
    {
     "name": "stdout",
     "output_type": "stream",
     "text": [
      "count    1.804874e+06\n",
      "mean     1.030173e-01\n",
      "std      1.970757e-01\n",
      "min      0.000000e+00\n",
      "25%      0.000000e+00\n",
      "50%      0.000000e+00\n",
      "75%      1.666667e-01\n",
      "max      1.000000e+00\n",
      "Name: target, dtype: float64\n"
     ]
    },
    {
     "data": {
      "text/plain": [
       "<AxesSubplot:xlabel='target', ylabel='Count'>"
      ]
     },
     "execution_count": 6,
     "metadata": {},
     "output_type": "execute_result"
    },
    {
     "data": {
      "image/png": "[encoded data removed]",
      "text/plain": [
       "<Figure size 576x288 with 1 Axes>"
      ]
     },
     "metadata": {},
     "output_type": "display_data"
    }
   ],
   "source": [
    "# take a look at distribution\n",
    "print(toxicity_train.target.describe()) ## unbalanced sample\n",
    "\n",
    "fig, ax = plt.subplots(1,1, figsize = (8,4))\n",
    "sns.set(style=\"whitegrid\") \n",
    "sns.histplot(toxicity_train.target, binwidth = .05, color = violet, ax = ax)"
   ]
  },
  {
   "cell_type": "markdown",
   "metadata": {},
   "source": [
    "###### **validation**"
   ]
  },
  {
   "cell_type": "code",
   "execution_count": 6,
   "metadata": {},
   "outputs": [
    {
     "name": "stdout",
     "output_type": "stream",
     "text": [
      "worker          753\n",
      "less_toxic    11532\n",
      "more_toxic    11678\n",
      "dtype: int64\n",
      "(30108, 3)\n"
     ]
    }
   ],
   "source": [
    "toxicity_valid = pd.read_csv(f'{validation_file_path}')\n",
    "print(toxicity_valid.nunique())\n",
    "print(toxicity_valid.shape)"
   ]
  },
  {
   "cell_type": "code",
   "execution_count": 11,
   "metadata": {},
   "outputs": [],
   "source": [
    "## preprocess validation dataset \n",
    "texts = set(toxicity_valid.less_toxic.to_list() + toxicity_valid.more_toxic.to_list())\n",
    "text2id = {t:id for id,t in enumerate(texts)}\n",
    "toxicity_valid['less_id'] = toxicity_valid['less_toxic'].map(text2id)\n",
    "toxicity_valid['more_id'] = toxicity_valid['more_toxic'].map(text2id)\n",
    "toxicity_valid_grouped = (toxicity_valid.groupby(['less_id', 'more_id']).first()\\\n",
    "                          .reset_index().drop(['less_id', 'more_id'], axis = 1).drop(['worker'], axis = 1))\n",
    "toxicity_valid_grouped.rename(columns = {'less_toxic':'less_toxic_text', 'more_toxic':'more_toxic_text'}, inplace = True)"
   ]
  },
  {
   "cell_type": "code",
   "execution_count": 12,
   "metadata": {},
   "outputs": [
    {
     "data": {
      "text/html": [
       "<div>\n",
       "<style scoped>\n",
       "    .dataframe tbody tr th:only-of-type {\n",
       "        vertical-align: middle;\n",
       "    }\n",
       "\n",
       "    .dataframe tbody tr th {\n",
       "        vertical-align: top;\n",
       "    }\n",
       "\n",
       "    .dataframe thead th {\n",
       "        text-align: right;\n",
       "    }\n",
       "</style>\n",
       "<table border=\"1\" class=\"dataframe\">\n",
       "  <thead>\n",
       "    <tr style=\"text-align: right;\">\n",
       "      <th></th>\n",
       "      <th>less_toxic_text</th>\n",
       "      <th>more_toxic_text</th>\n",
       "    </tr>\n",
       "  </thead>\n",
       "  <tbody>\n",
       "    <tr>\n",
       "      <th>0</th>\n",
       "      <td>Ossmann,are you  jew or your father was an SS ...</td>\n",
       "      <td>its my talk page. keep the bitching off it. th...</td>\n",
       "    </tr>\n",
       "    <tr>\n",
       "      <th>1</th>\n",
       "      <td>ROSES ARE RED, VIOLETS ARE BLUE, MAN I'M BLACK...</td>\n",
       "      <td>Actually I'm jewish too. But node is not, or a...</td>\n",
       "    </tr>\n",
       "    <tr>\n",
       "      <th>2</th>\n",
       "      <td>An utter fabrication and ridiculous nonsense! ...</td>\n",
       "      <td>Russian transliteration\\nDear Nixer.  I am sor...</td>\n",
       "    </tr>\n",
       "    <tr>\n",
       "      <th>3</th>\n",
       "      <td>\"\\n Nice straw man but you won't be able to hi...</td>\n",
       "      <td>I think there should be some form of screening...</td>\n",
       "    </tr>\n",
       "    <tr>\n",
       "      <th>4</th>\n",
       "      <td>\"\\n Nice straw man but you won't be able to hi...</td>\n",
       "      <td>Let's get to fuckin big daddy ==\\nMan I love s...</td>\n",
       "    </tr>\n",
       "    <tr>\n",
       "      <th>...</th>\n",
       "      <td>...</td>\n",
       "      <td>...</td>\n",
       "    </tr>\n",
       "    <tr>\n",
       "      <th>15405</th>\n",
       "      <td>Apparently you are not very clever as you thin...</td>\n",
       "      <td>But you are master of putting words into peop...</td>\n",
       "    </tr>\n",
       "    <tr>\n",
       "      <th>15406</th>\n",
       "      <td>Apparently you are not very clever as you thin...</td>\n",
       "      <td>\"\\n\\n What about \\n[==Strasbourg==\\nThis ? Rev...</td>\n",
       "    </tr>\n",
       "    <tr>\n",
       "      <th>15407</th>\n",
       "      <td>go ahead \\n\\ni don't give a shit to that</td>\n",
       "      <td>FLOOD!!! COME AND DESTROY http://twitter.com/...</td>\n",
       "    </tr>\n",
       "    <tr>\n",
       "      <th>15408</th>\n",
       "      <td>Gonna fuck you up \\n\\nYou little bitch. 86.17...</td>\n",
       "      <td>unblock|unblock my restriction from editing yo...</td>\n",
       "    </tr>\n",
       "    <tr>\n",
       "      <th>15409</th>\n",
       "      <td>THE CIVIL DISCUSSION WAS IN MY EDIT AND YOU DE...</td>\n",
       "      <td>AIDS \\n\\nLess AIDS would be spread if you wer...</td>\n",
       "    </tr>\n",
       "  </tbody>\n",
       "</table>\n",
       "<p>15410 rows × 2 columns</p>\n",
       "</div>"
      ],
      "text/plain": [
       "                                         less_toxic_text  \\\n",
       "0      Ossmann,are you  jew or your father was an SS ...   \n",
       "1      ROSES ARE RED, VIOLETS ARE BLUE, MAN I'M BLACK...   \n",
       "2      An utter fabrication and ridiculous nonsense! ...   \n",
       "3      \"\\n Nice straw man but you won't be able to hi...   \n",
       "4      \"\\n Nice straw man but you won't be able to hi...   \n",
       "...                                                  ...   \n",
       "15405  Apparently you are not very clever as you thin...   \n",
       "15406  Apparently you are not very clever as you thin...   \n",
       "15407           go ahead \\n\\ni don't give a shit to that   \n",
       "15408   Gonna fuck you up \\n\\nYou little bitch. 86.17...   \n",
       "15409  THE CIVIL DISCUSSION WAS IN MY EDIT AND YOU DE...   \n",
       "\n",
       "                                         more_toxic_text  \n",
       "0      its my talk page. keep the bitching off it. th...  \n",
       "1      Actually I'm jewish too. But node is not, or a...  \n",
       "2      Russian transliteration\\nDear Nixer.  I am sor...  \n",
       "3      I think there should be some form of screening...  \n",
       "4      Let's get to fuckin big daddy ==\\nMan I love s...  \n",
       "...                                                  ...  \n",
       "15405   But you are master of putting words into peop...  \n",
       "15406  \"\\n\\n What about \\n[==Strasbourg==\\nThis ? Rev...  \n",
       "15407   FLOOD!!! COME AND DESTROY http://twitter.com/...  \n",
       "15408  unblock|unblock my restriction from editing yo...  \n",
       "15409   AIDS \\n\\nLess AIDS would be spread if you wer...  \n",
       "\n",
       "[15410 rows x 2 columns]"
      ]
     },
     "execution_count": 12,
     "metadata": {},
     "output_type": "execute_result"
    }
   ],
   "source": [
    "toxicity_valid_grouped.to_csv(f'{val_path}/validation_grouped.csv')\n",
    "toxicity_valid_grouped"
   ]
  },
  {
   "cell_type": "code",
   "execution_count": 7,
   "metadata": {},
   "outputs": [
    {
     "name": "stdout",
     "output_type": "stream",
     "text": [
      "paired up ...\n",
      "made new dataframe ...\n"
     ]
    },
    {
     "data": {
      "text/html": [
       "<div>\n",
       "<style scoped>\n",
       "    .dataframe tbody tr th:only-of-type {\n",
       "        vertical-align: middle;\n",
       "    }\n",
       "\n",
       "    .dataframe tbody tr th {\n",
       "        vertical-align: top;\n",
       "    }\n",
       "\n",
       "    .dataframe thead th {\n",
       "        text-align: right;\n",
       "    }\n",
       "</style>\n",
       "<table border=\"1\" class=\"dataframe\">\n",
       "  <thead>\n",
       "    <tr style=\"text-align: right;\">\n",
       "      <th></th>\n",
       "      <th>more_toxic_text</th>\n",
       "      <th>less_toxic_text</th>\n",
       "      <th>toxicity_more_toxic</th>\n",
       "      <th>toxicity_less_toxic</th>\n",
       "      <th>labels_more_toxic</th>\n",
       "      <th>labels_less_toxic</th>\n",
       "    </tr>\n",
       "  </thead>\n",
       "  <tbody>\n",
       "    <tr>\n",
       "      <th>0</th>\n",
       "      <td>To enjoy frustration and helplessness of Obama...</td>\n",
       "      <td>Well the issues of gender oppression &amp; forced ...</td>\n",
       "      <td>0.166667</td>\n",
       "      <td>0.100000</td>\n",
       "      <td>0</td>\n",
       "      <td>0</td>\n",
       "    </tr>\n",
       "    <tr>\n",
       "      <th>1</th>\n",
       "      <td>\"Trudeau Liberals' national climate deal to ha...</td>\n",
       "      <td>The \"stoners\" don't really care, since they ca...</td>\n",
       "      <td>0.800000</td>\n",
       "      <td>0.200000</td>\n",
       "      <td>1</td>\n",
       "      <td>0</td>\n",
       "    </tr>\n",
       "    <tr>\n",
       "      <th>2</th>\n",
       "      <td>Liberals are stupid, unskilled immigrants are ...</td>\n",
       "      <td>Most Catholics have no alternative to the Novu...</td>\n",
       "      <td>0.883333</td>\n",
       "      <td>0.200000</td>\n",
       "      <td>1</td>\n",
       "      <td>0</td>\n",
       "    </tr>\n",
       "    <tr>\n",
       "      <th>3</th>\n",
       "      <td>As usual, Trump is right on.\\n\\nThink about it...</td>\n",
       "      <td>There's a couple of pretty big differences; an...</td>\n",
       "      <td>0.200000</td>\n",
       "      <td>0.111111</td>\n",
       "      <td>0</td>\n",
       "      <td>0</td>\n",
       "    </tr>\n",
       "    <tr>\n",
       "      <th>4</th>\n",
       "      <td>The amount of $$ sloshing around the pharmaceu...</td>\n",
       "      <td>God doesnt sort out details.  War?  Disease?  ...</td>\n",
       "      <td>0.200000</td>\n",
       "      <td>0.100000</td>\n",
       "      <td>0</td>\n",
       "      <td>0</td>\n",
       "    </tr>\n",
       "    <tr>\n",
       "      <th>...</th>\n",
       "      <td>...</td>\n",
       "      <td>...</td>\n",
       "      <td>...</td>\n",
       "      <td>...</td>\n",
       "      <td>...</td>\n",
       "      <td>...</td>\n",
       "    </tr>\n",
       "    <tr>\n",
       "      <th>49995</th>\n",
       "      <td>I have a \"Thank You for Being Stupid\" card to ...</td>\n",
       "      <td>Trump bites the hand that fed him like the ung...</td>\n",
       "      <td>0.833333</td>\n",
       "      <td>0.400000</td>\n",
       "      <td>1</td>\n",
       "      <td>0</td>\n",
       "    </tr>\n",
       "    <tr>\n",
       "      <th>49996</th>\n",
       "      <td>Yeah, people like you like to parrot that phra...</td>\n",
       "      <td>So it sounds like a girl got in over her head,...</td>\n",
       "      <td>0.200000</td>\n",
       "      <td>0.166667</td>\n",
       "      <td>0</td>\n",
       "      <td>0</td>\n",
       "    </tr>\n",
       "    <tr>\n",
       "      <th>49997</th>\n",
       "      <td>So nothing concrete to protest, they just do n...</td>\n",
       "      <td>And Obama appointed his basketball buddy. We s...</td>\n",
       "      <td>0.166667</td>\n",
       "      <td>0.166667</td>\n",
       "      <td>0</td>\n",
       "      <td>0</td>\n",
       "    </tr>\n",
       "    <tr>\n",
       "      <th>49998</th>\n",
       "      <td>I saw it on the news the night BEFORE his spee...</td>\n",
       "      <td>Of course he isn't Mariota, but he's not Jonse...</td>\n",
       "      <td>0.166667</td>\n",
       "      <td>0.166667</td>\n",
       "      <td>0</td>\n",
       "      <td>0</td>\n",
       "    </tr>\n",
       "    <tr>\n",
       "      <th>49999</th>\n",
       "      <td>Alexandra, we both know that’s not true.  The ...</td>\n",
       "      <td>[I do not do unicorns]\\nBecause the words in t...</td>\n",
       "      <td>0.200000</td>\n",
       "      <td>0.166667</td>\n",
       "      <td>0</td>\n",
       "      <td>0</td>\n",
       "    </tr>\n",
       "  </tbody>\n",
       "</table>\n",
       "<p>50000 rows × 6 columns</p>\n",
       "</div>"
      ],
      "text/plain": [
       "                                         more_toxic_text  \\\n",
       "0      To enjoy frustration and helplessness of Obama...   \n",
       "1      \"Trudeau Liberals' national climate deal to ha...   \n",
       "2      Liberals are stupid, unskilled immigrants are ...   \n",
       "3      As usual, Trump is right on.\\n\\nThink about it...   \n",
       "4      The amount of $$ sloshing around the pharmaceu...   \n",
       "...                                                  ...   \n",
       "49995  I have a \"Thank You for Being Stupid\" card to ...   \n",
       "49996  Yeah, people like you like to parrot that phra...   \n",
       "49997  So nothing concrete to protest, they just do n...   \n",
       "49998  I saw it on the news the night BEFORE his spee...   \n",
       "49999  Alexandra, we both know that’s not true.  The ...   \n",
       "\n",
       "                                         less_toxic_text  toxicity_more_toxic  \\\n",
       "0      Well the issues of gender oppression & forced ...             0.166667   \n",
       "1      The \"stoners\" don't really care, since they ca...             0.800000   \n",
       "2      Most Catholics have no alternative to the Novu...             0.883333   \n",
       "3      There's a couple of pretty big differences; an...             0.200000   \n",
       "4      God doesnt sort out details.  War?  Disease?  ...             0.200000   \n",
       "...                                                  ...                  ...   \n",
       "49995  Trump bites the hand that fed him like the ung...             0.833333   \n",
       "49996  So it sounds like a girl got in over her head,...             0.200000   \n",
       "49997  And Obama appointed his basketball buddy. We s...             0.166667   \n",
       "49998  Of course he isn't Mariota, but he's not Jonse...             0.166667   \n",
       "49999  [I do not do unicorns]\\nBecause the words in t...             0.200000   \n",
       "\n",
       "       toxicity_less_toxic  labels_more_toxic  labels_less_toxic  \n",
       "0                 0.100000                  0                  0  \n",
       "1                 0.200000                  1                  0  \n",
       "2                 0.200000                  1                  0  \n",
       "3                 0.111111                  0                  0  \n",
       "4                 0.100000                  0                  0  \n",
       "...                    ...                ...                ...  \n",
       "49995             0.400000                  1                  0  \n",
       "49996             0.166667                  0                  0  \n",
       "49997             0.166667                  0                  0  \n",
       "49998             0.166667                  0                  0  \n",
       "49999             0.166667                  0                  0  \n",
       "\n",
       "[50000 rows x 6 columns]"
      ]
     },
     "execution_count": 7,
     "metadata": {},
     "output_type": "execute_result"
    }
   ],
   "source": [
    "## make new dataframe\n",
    "toxic = toxic_dataset(df = toxicity_train, text = toxicity_train.comment_text, \n",
    "                      toxicity = toxicity_train.target, size = int(1e5//2), label = toxicity_train.label, seed = 1011)\n",
    "\n",
    "toxic.make_dataframe(down_sample = True, make_pairs = True, threshold = 0.01)\n",
    "\n",
    "toxicity_train_paired = toxic.df\n",
    "toxicity_train_paired.to_csv(f'{train_path}/train_paired.csv')\n",
    "toxic.df"
   ]
  },
  {
   "cell_type": "code",
   "execution_count": 9,
   "metadata": {},
   "outputs": [
    {
     "data": {
      "image/png": "[encoded data removed]",
      "text/plain": [
       "<Figure size 1008x288 with 2 Axes>"
      ]
     },
     "metadata": {},
     "output_type": "display_data"
    }
   ],
   "source": [
    "# take a look at distribution\n",
    "fontsize = 12\n",
    "fig, ax = plt.subplots(1,2, figsize = (14,4))\n",
    "sns.set(style=\"whitegrid\") \n",
    "sns.histplot(toxicity_train_paired.toxicity_more_toxic, binwidth = .05, \n",
    "             color = violet, ax = ax[0], label = 'more toxic')\n",
    "sns.histplot(toxicity_train_paired.toxicity_less_toxic, binwidth = .05, \n",
    "             color = 'darkgray', alpha = 0.5, ax = ax[1], label = 'less toxic')\n",
    "fig.savefig(f'{os.getcwd()}/output/paired_toxicity_dist.png', bbox_inches = 'tight', dpi = 300)"
   ]
  },
  {
   "cell_type": "markdown",
   "metadata": {},
   "source": [
    "##### Text cleaning (optional)\n",
    "---"
   ]
  },
  {
   "cell_type": "code",
   "execution_count": 8,
   "metadata": {},
   "outputs": [],
   "source": [
    "## probably should be parallelized on GPU \n",
    "toxic.df.more_toxic_text = toxic.df.more_toxic_text.map(text_cleaning)\n",
    "toxic.df.less_toxic_text = toxic.df.less_toxic_text.map(text_cleaning)"
   ]
  },
  {
   "cell_type": "code",
   "execution_count": 19,
   "metadata": {},
   "outputs": [
    {
     "data": {
      "text/html": [
       "<div>\n",
       "<style scoped>\n",
       "    .dataframe tbody tr th:only-of-type {\n",
       "        vertical-align: middle;\n",
       "    }\n",
       "\n",
       "    .dataframe tbody tr th {\n",
       "        vertical-align: top;\n",
       "    }\n",
       "\n",
       "    .dataframe thead th {\n",
       "        text-align: right;\n",
       "    }\n",
       "</style>\n",
       "<table border=\"1\" class=\"dataframe\">\n",
       "  <thead>\n",
       "    <tr style=\"text-align: right;\">\n",
       "      <th></th>\n",
       "      <th>more_toxic_text</th>\n",
       "      <th>less_toxic_text</th>\n",
       "      <th>toxicity_more_toxic</th>\n",
       "      <th>toxicity_less_toxic</th>\n",
       "      <th>labels_more_toxic</th>\n",
       "      <th>labels_less_toxic</th>\n",
       "    </tr>\n",
       "  </thead>\n",
       "  <tbody>\n",
       "    <tr>\n",
       "      <th>0</th>\n",
       "      <td>To enjoy frustration and helplessness of Obama...</td>\n",
       "      <td>Well the issues of gender oppression forced la...</td>\n",
       "      <td>0.166667</td>\n",
       "      <td>0.100000</td>\n",
       "      <td>0</td>\n",
       "      <td>0</td>\n",
       "    </tr>\n",
       "    <tr>\n",
       "      <th>1</th>\n",
       "      <td>Trudeau Liberals national climate deal to have...</td>\n",
       "      <td>The stoners don t really care since they can g...</td>\n",
       "      <td>0.800000</td>\n",
       "      <td>0.200000</td>\n",
       "      <td>1</td>\n",
       "      <td>0</td>\n",
       "    </tr>\n",
       "    <tr>\n",
       "      <th>2</th>\n",
       "      <td>Liberals are stupid unskilled immigrants are s...</td>\n",
       "      <td>Most Catholics have no alternative to the Novu...</td>\n",
       "      <td>0.883333</td>\n",
       "      <td>0.200000</td>\n",
       "      <td>1</td>\n",
       "      <td>0</td>\n",
       "    </tr>\n",
       "    <tr>\n",
       "      <th>3</th>\n",
       "      <td>As usual Trump is right on Think about it this...</td>\n",
       "      <td>There s a couple of pretty big differences and...</td>\n",
       "      <td>0.200000</td>\n",
       "      <td>0.111111</td>\n",
       "      <td>0</td>\n",
       "      <td>0</td>\n",
       "    </tr>\n",
       "    <tr>\n",
       "      <th>4</th>\n",
       "      <td>The amount of sloshing around the pharmaceutic...</td>\n",
       "      <td>God doesnt sort out details War Disease Storms...</td>\n",
       "      <td>0.200000</td>\n",
       "      <td>0.100000</td>\n",
       "      <td>0</td>\n",
       "      <td>0</td>\n",
       "    </tr>\n",
       "    <tr>\n",
       "      <th>...</th>\n",
       "      <td>...</td>\n",
       "      <td>...</td>\n",
       "      <td>...</td>\n",
       "      <td>...</td>\n",
       "      <td>...</td>\n",
       "      <td>...</td>\n",
       "    </tr>\n",
       "    <tr>\n",
       "      <th>49995</th>\n",
       "      <td>I have a Thank You for Being Stupid card to se...</td>\n",
       "      <td>Trump bites the hand that fed him like the ung...</td>\n",
       "      <td>0.833333</td>\n",
       "      <td>0.400000</td>\n",
       "      <td>1</td>\n",
       "      <td>0</td>\n",
       "    </tr>\n",
       "    <tr>\n",
       "      <th>49996</th>\n",
       "      <td>Yeah people like you like to parrot that phras...</td>\n",
       "      <td>So it sounds like a girl got in over her head ...</td>\n",
       "      <td>0.200000</td>\n",
       "      <td>0.166667</td>\n",
       "      <td>0</td>\n",
       "      <td>0</td>\n",
       "    </tr>\n",
       "    <tr>\n",
       "      <th>49997</th>\n",
       "      <td>So nothing concrete to protest they just do no...</td>\n",
       "      <td>And Obama appointed his basketball buddy We sa...</td>\n",
       "      <td>0.166667</td>\n",
       "      <td>0.166667</td>\n",
       "      <td>0</td>\n",
       "      <td>0</td>\n",
       "    </tr>\n",
       "    <tr>\n",
       "      <th>49998</th>\n",
       "      <td>I saw it on the news the night BEFORE his spee...</td>\n",
       "      <td>Of course he isn t Mariota but he s not Jonsen...</td>\n",
       "      <td>0.166667</td>\n",
       "      <td>0.166667</td>\n",
       "      <td>0</td>\n",
       "      <td>0</td>\n",
       "    </tr>\n",
       "    <tr>\n",
       "      <th>49999</th>\n",
       "      <td>Alexandra we both know that s not true The Pen...</td>\n",
       "      <td>I do not do unicorns Because the words in the ...</td>\n",
       "      <td>0.200000</td>\n",
       "      <td>0.166667</td>\n",
       "      <td>0</td>\n",
       "      <td>0</td>\n",
       "    </tr>\n",
       "  </tbody>\n",
       "</table>\n",
       "<p>50000 rows × 6 columns</p>\n",
       "</div>"
      ],
      "text/plain": [
       "                                         more_toxic_text  \\\n",
       "0      To enjoy frustration and helplessness of Obama...   \n",
       "1      Trudeau Liberals national climate deal to have...   \n",
       "2      Liberals are stupid unskilled immigrants are s...   \n",
       "3      As usual Trump is right on Think about it this...   \n",
       "4      The amount of sloshing around the pharmaceutic...   \n",
       "...                                                  ...   \n",
       "49995  I have a Thank You for Being Stupid card to se...   \n",
       "49996  Yeah people like you like to parrot that phras...   \n",
       "49997  So nothing concrete to protest they just do no...   \n",
       "49998  I saw it on the news the night BEFORE his spee...   \n",
       "49999  Alexandra we both know that s not true The Pen...   \n",
       "\n",
       "                                         less_toxic_text  toxicity_more_toxic  \\\n",
       "0      Well the issues of gender oppression forced la...             0.166667   \n",
       "1      The stoners don t really care since they can g...             0.800000   \n",
       "2      Most Catholics have no alternative to the Novu...             0.883333   \n",
       "3      There s a couple of pretty big differences and...             0.200000   \n",
       "4      God doesnt sort out details War Disease Storms...             0.200000   \n",
       "...                                                  ...                  ...   \n",
       "49995  Trump bites the hand that fed him like the ung...             0.833333   \n",
       "49996  So it sounds like a girl got in over her head ...             0.200000   \n",
       "49997  And Obama appointed his basketball buddy We sa...             0.166667   \n",
       "49998  Of course he isn t Mariota but he s not Jonsen...             0.166667   \n",
       "49999  I do not do unicorns Because the words in the ...             0.200000   \n",
       "\n",
       "       toxicity_less_toxic  labels_more_toxic  labels_less_toxic  \n",
       "0                 0.100000                  0                  0  \n",
       "1                 0.200000                  1                  0  \n",
       "2                 0.200000                  1                  0  \n",
       "3                 0.111111                  0                  0  \n",
       "4                 0.100000                  0                  0  \n",
       "...                    ...                ...                ...  \n",
       "49995             0.400000                  1                  0  \n",
       "49996             0.166667                  0                  0  \n",
       "49997             0.166667                  0                  0  \n",
       "49998             0.166667                  0                  0  \n",
       "49999             0.166667                  0                  0  \n",
       "\n",
       "[50000 rows x 6 columns]"
      ]
     },
     "execution_count": 19,
     "metadata": {},
     "output_type": "execute_result"
    }
   ],
   "source": [
    "toxic.df.to_csv(f'{train_path}/train_paired_cleaned.csv')\n",
    "toxic.df"
   ]
  },
  {
   "cell_type": "code",
   "execution_count": 20,
   "metadata": {},
   "outputs": [],
   "source": [
    "toxicity_valid_grouped.less_toxic_text = toxicity_valid_grouped.less_toxic_text.map(text_cleaning)\n",
    "toxicity_valid_grouped.more_toxic_text = toxicity_valid_grouped.more_toxic_text.map(text_cleaning)\n",
    "toxicity_valid_grouped.to_csv(f'{val_path}/val_cleaned.csv')"
   ]
  },
  {
   "cell_type": "markdown",
   "metadata": {},
   "source": [
    "##### Prepare data for Datasets (optional)\n",
    "---"
   ]
  },
  {
   "cell_type": "code",
   "execution_count": 4,
   "metadata": {},
   "outputs": [
    {
     "data": {
      "application/vnd.jupyter.widget-view+json": {
       "model_id": "9b9400dc0b3a443cad0a7b02b74a1de2",
       "version_major": 2,
       "version_minor": 0
      },
      "text/plain": [
       "Downloading data files:   0%|          | 0/1 [00:00<?, ?it/s]"
      ]
     },
     "metadata": {},
     "output_type": "display_data"
    },
    {
     "data": {
      "application/vnd.jupyter.widget-view+json": {
       "model_id": "8584c81a84304231bdc56eabaad46473",
       "version_major": 2,
       "version_minor": 0
      },
      "text/plain": [
       "Extracting data files:   0%|          | 0/1 [00:00<?, ?it/s]"
      ]
     },
     "metadata": {},
     "output_type": "display_data"
    },
    {
     "data": {
      "application/vnd.jupyter.widget-view+json": {
       "model_id": "b2d40409ee8b48db824ac3f202d500aa",
       "version_major": 2,
       "version_minor": 0
      },
      "text/plain": [
       "Generating test split: 0 examples [00:00, ? examples/s]"
      ]
     },
     "metadata": {},
     "output_type": "display_data"
    }
   ],
   "source": [
    "# add dummy labels to validation set\n",
    "train_set, val_set = 'train_paired_cleaned.csv', 'val_cleaned.csv' \n",
    "val_dataset = pd.read_csv(os.path.join(val_path, val_set))\n",
    "\n",
    "val_dataset['labels_more_toxic'] = -1\n",
    "val_dataset['labels_less_toxic'] = -1\n",
    "val_dataset.to_csv(f'{val_path}/val_cleaned.csv')\n",
    "\n",
    "train_dataset = load_dataset('csv', data_files = os.path.join(train_path, train_set))\n",
    "val_dataset = load_dataset('csv', data_files = {'test': os.path.join(val_path, val_set)})"
   ]
  },
  {
   "cell_type": "markdown",
   "metadata": {},
   "source": [
    "##### Debug do_train\n",
    "---"
   ]
  },
  {
   "cell_type": "code",
   "execution_count": 6,
   "metadata": {},
   "outputs": [],
   "source": [
    "train_tokenized_dataset = BERTDataset(\n",
    "    more_toxic=train_dataset[\"train\"][\"more_toxic_text\"],\n",
    "    less_toxic=train_dataset[\"train\"][\"less_toxic_text\"],\n",
    "    labels_more_toxic=train_dataset[\"train\"][\"labels_more_toxic\"],\n",
    "    labels_less_toxic=train_dataset[\"train\"][\"labels_less_toxic\"],\n",
    ")\n",
    "\n",
    "val_tokenized_dataset = BERTDataset(\n",
    "    more_toxic=val_dataset[\"test\"][\"more_toxic_text\"],\n",
    "    less_toxic=val_dataset[\"test\"][\"less_toxic_text\"],\n",
    "    labels_more_toxic=val_dataset[\"test\"][\"labels_more_toxic\"],\n",
    "    labels_less_toxic=val_dataset[\"test\"][\"labels_less_toxic\"],\n",
    ")\n"
   ]
  },
  {
   "cell_type": "code",
   "execution_count": 7,
   "metadata": {},
   "outputs": [],
   "source": [
    "def small_data_set(dataset, split, size = 100):\n",
    "    rng = np.random.default_rng(seed = RANDOM_SEED)\n",
    "    small_set = [dataset[split][int(i)] for i in rng.integers(0, len(dataset[split]), size = size)]\n",
    "    small_dataset = Dataset.from_list(small_set)\n",
    "    return small_dataset"
   ]
  },
  {
   "cell_type": "code",
   "execution_count": 8,
   "metadata": {},
   "outputs": [],
   "source": [
    "small_train_dataset = small_data_set(train_dataset, 'train', size = 5)\n",
    "small_train_tokenized = BERTDataset(more_toxic=small_train_dataset['more_toxic_text'],\n",
    "                                      less_toxic= small_train_dataset['less_toxic_text'],\n",
    "                                      labels_more_toxic= small_train_dataset['labels_more_toxic'],\n",
    "                                      labels_less_toxic= small_train_dataset['labels_less_toxic'],)"
   ]
  },
  {
   "cell_type": "code",
   "execution_count": 8,
   "metadata": {},
   "outputs": [],
   "source": [
    "train_dataloader = DataLoader(small_train_tokenized, shuffle=True, num_workers = os.cpu_count(), batch_size= 8)\n",
    "# val_dataloader = DataLoader(val_tokenized_dataset, shuffle=True, num_workers = os.cpu_count(), batch_size= 8)"
   ]
  },
  {
   "cell_type": "code",
   "execution_count": 48,
   "metadata": {},
   "outputs": [
    {
     "data": {
      "application/vnd.jupyter.widget-view+json": {
       "model_id": "2e3ae9c8574b4d6cb73ca0ad9d431f08",
       "version_major": 2,
       "version_minor": 0
      },
      "text/plain": [
       "  0%|          | 0/2 [00:00<?, ?it/s]"
      ]
     },
     "metadata": {},
     "output_type": "display_data"
    },
    {
     "name": "stdout",
     "output_type": "stream",
     "text": [
      "0\n",
      "1\n",
      "Training completed...\n",
      "Saving Model....\n"
     ]
    }
   ],
   "source": [
    "# do_train(model, train_dataloader)"
   ]
  },
  {
   "cell_type": "markdown",
   "metadata": {},
   "source": [
    "##### Read results\n",
    "---"
   ]
  },
  {
   "cell_type": "code",
   "execution_count": 3,
   "metadata": {},
   "outputs": [],
   "source": [
    "sub_path = ['/out_amended/', '/out_butter_homo_amended/', '/out_back/']"
   ]
  },
  {
   "cell_type": "markdown",
   "metadata": {},
   "source": [
    "###### original"
   ]
  },
  {
   "cell_type": "code",
   "execution_count": 4,
   "metadata": {},
   "outputs": [],
   "source": [
    "## original\n",
    "path = '/scratch/' + os.environ.get(\"USER\", \"\") + sub_path[0]\n",
    "with open(os.path.join(path, 'train_loss_tracker.pkl'), 'rb') as f:\n",
    "    train_original_loss = pickle.load(f)\n",
    "f.close()\n",
    "\n",
    "with open(os.path.join(path, 'train_metrics.pkl'), 'rb') as f:\n",
    "    train_original_metrics = pickle.load(f)\n",
    "f.close()\n",
    "\n",
    "with open(os.path.join(path, 'eval_loss_tracker.pkl'), 'rb') as f:\n",
    "    eval_original_loss = pickle.load(f)\n",
    "f.close()\n",
    "\n",
    "with open(os.path.join(path, 'eval_metrics.pkl'), 'rb') as f:\n",
    "    eval_original_metrics = pickle.load(f)\n",
    "f.close()"
   ]
  },
  {
   "cell_type": "code",
   "execution_count": 5,
   "metadata": {},
   "outputs": [],
   "source": [
    "## confidence, predictions, labels\n",
    "path = '/scratch/' + os.environ.get(\"USER\", \"\") + sub_path[0]\n",
    "ECE_original = pd.read_csv(os.path.join(path, 'ECE_original.txt'), sep = '\\t')\n",
    "ECE_original = map_results(ECE_original, cols = ECE_original.columns)"
   ]
  },
  {
   "cell_type": "code",
   "execution_count": 6,
   "metadata": {},
   "outputs": [],
   "source": [
    "path = '/scratch/' + os.environ.get(\"USER\", \"\") + sub_path[0]\n",
    "with open(os.path.join(path, 'eval_loss_tracker.pkl'), 'rb') as f:\n",
    "    eval_original_loss = pickle.load(f)\n",
    "f.close()"
   ]
  },
  {
   "cell_type": "markdown",
   "metadata": {},
   "source": [
    "###### butter_homo"
   ]
  },
  {
   "cell_type": "code",
   "execution_count": 7,
   "metadata": {},
   "outputs": [],
   "source": [
    "## butterfinger\n",
    "path = '/scratch/' + os.environ.get(\"USER\", \"\") + sub_path[1]\n",
    "with open(os.path.join(path, 'train_loss_tracker.pkl'), 'rb') as f:\n",
    "    train_butter_loss = pickle.load(f)\n",
    "f.close()\n",
    "\n",
    "with open(os.path.join(path, 'train_metrics.pkl'), 'rb') as f:\n",
    "    train_butter_metrics = pickle.load(f)\n",
    "f.close()\n",
    "\n",
    "with open(os.path.join(path, 'eval_loss_tracker.pkl'), 'rb') as f:\n",
    "    eval_butter_loss = pickle.load(f)\n",
    "f.close()\n",
    "\n",
    "with open(os.path.join(path, 'eval_metrics.pkl'), 'rb') as f:\n",
    "    eval_butter_metrics = pickle.load(f)\n",
    "f.close()"
   ]
  },
  {
   "cell_type": "code",
   "execution_count": 8,
   "metadata": {},
   "outputs": [],
   "source": [
    "## confidence, predictions, labels\n",
    "path = '/scratch/' + os.environ.get(\"USER\", \"\") + sub_path[1]\n",
    "ECE_butter_homo = pd.read_csv(os.path.join(path, 'ECE_butter_homo.txt'), sep = '\\t')\n",
    "ECE_butter_homo = map_results(ECE_butter_homo, cols = ECE_butter_homo.columns)"
   ]
  },
  {
   "cell_type": "code",
   "execution_count": 9,
   "metadata": {},
   "outputs": [],
   "source": [
    "path = '/scratch/' + os.environ.get(\"USER\", \"\") + sub_path[1]\n",
    "with open(os.path.join(path, 'eval_loss_tracker.pkl'), 'rb') as f:\n",
    "    eval_butter_loss = pickle.load(f)\n",
    "f.close()"
   ]
  },
  {
   "cell_type": "markdown",
   "metadata": {},
   "source": [
    "###### back_trans"
   ]
  },
  {
   "cell_type": "code",
   "execution_count": 10,
   "metadata": {},
   "outputs": [],
   "source": [
    "## back translation\n",
    "path = '/scratch/' + os.environ.get(\"USER\", \"\") + sub_path[-1]\n",
    "with open(os.path.join(path, 'train_loss_tracker.pkl'), 'rb') as f:\n",
    "    train_back_loss = pickle.load(f)\n",
    "f.close()\n",
    "\n",
    "with open(os.path.join(path, 'train_metrics.pkl'), 'rb') as f:\n",
    "    train_back_metrics = pickle.load(f)\n",
    "f.close()\n",
    "\n",
    "with open(os.path.join(path, 'eval_loss_tracker.pkl'), 'rb') as f:\n",
    "    eval_back_loss = pickle.load(f)\n",
    "f.close()\n",
    "\n",
    "with open(os.path.join(path, 'eval_metrics.pkl'), 'rb') as f:\n",
    "    eval_back_metrics = pickle.load(f)\n",
    "f.close()"
   ]
  },
  {
   "cell_type": "code",
   "execution_count": 11,
   "metadata": {},
   "outputs": [],
   "source": [
    "## confidence, predictions, labels\n",
    "path = '/scratch/' + os.environ.get(\"USER\", \"\") + sub_path[-1]\n",
    "ECE_back = pd.read_csv(os.path.join(path, 'ECE_back_translation.txt'), sep = '\\t')\n",
    "ECE_back = map_results(ECE_back, cols = ECE_back.columns)"
   ]
  },
  {
   "cell_type": "code",
   "execution_count": 12,
   "metadata": {},
   "outputs": [],
   "source": [
    "path = '/scratch/' + os.environ.get(\"USER\", \"\") + sub_path[-1]\n",
    "with open(os.path.join(path, 'eval_loss_tracker.pkl'), 'rb') as f:\n",
    "    eval_back_loss = pickle.load(f)\n",
    "f.close()"
   ]
  },
  {
   "cell_type": "markdown",
   "metadata": {},
   "source": [
    "##### Plot\n",
    "---"
   ]
  },
  {
   "cell_type": "code",
   "execution_count": 13,
   "metadata": {},
   "outputs": [
    {
     "data": {
      "image/png": "[encoded data removed]",
      "text/plain": [
       "<Figure size 1584x576 with 2 Axes>"
      ]
     },
     "metadata": {},
     "output_type": "display_data"
    }
   ],
   "source": [
    "import matplotlib.pyplot as plt\n",
    "## loss from utils\n",
    "plot_loss([train_original_loss, train_butter_loss, train_back_loss, eval_original_loss, eval_butter_loss, eval_back_loss])"
   ]
  },
  {
   "cell_type": "code",
   "execution_count": 17,
   "metadata": {},
   "outputs": [],
   "source": [
    "## ECE loss \n",
    "## credit: from https://github.com/nyu-cs2590/course-material/blob/gh-pages/fall2023/section/sec08/sec08.ipynb\n",
    "class ECELoss(nn.Module):\n",
    "    \"\"\"\n",
    "    Calculates the Expected Calibration Error of a model.\n",
    "    (This isn't necessary for temperature scaling, just a cool metric).\n",
    "\n",
    "    The input to this loss is the logits of a model, NOT the softmax scores.\n",
    "\n",
    "    This divides the confidence outputs into equally-sized interval bins.\n",
    "    In each bin, we compute the confidence gap:\n",
    "\n",
    "    bin_gap = | avg_confidence_in_bin - accuracy_in_bin |\n",
    "\n",
    "    We then return a weighted average of the gaps, based on the number\n",
    "    of samples in each bin\n",
    "\n",
    "    See: Naeini, Mahdi Pakdaman, Gregory F. Cooper, and Milos Hauskrecht.\n",
    "    \"Obtaining Well Calibrated Probabilities Using Bayesian Binning.\" AAAI.\n",
    "    2015.\n",
    "    \"\"\"\n",
    "    def __init__(self, n_bins=15):\n",
    "        \"\"\"\n",
    "        n_bins (int): number of confidence interval bins\n",
    "        \"\"\"\n",
    "        super(ECELoss, self).__init__()\n",
    "        bin_boundaries = torch.linspace(0, 1, n_bins + 1)\n",
    "        self.bin_lowers = bin_boundaries[:-1]\n",
    "        self.bin_uppers = bin_boundaries[1:]\n",
    "\n",
    "    def forward(self, confidences, predictions, labels):\n",
    "        self.bin_list = []\n",
    "        self.avg_confidence_in_bin_list = []\n",
    "        self.accuracy_in_bin_list = []\n",
    "        accuracies = predictions.eq(labels)\n",
    "\n",
    "        ece = torch.zeros(1, device=device)\n",
    "        for bin_lower, bin_upper in zip(self.bin_lowers, self.bin_uppers):\n",
    "            # Calculated |confidence - accuracy| in each bin\n",
    "            in_bin = confidences.gt(bin_lower.item()) * confidences.le(bin_upper.item())\n",
    "            prop_in_bin = in_bin.float().mean()\n",
    "            if prop_in_bin.item() > 0:\n",
    "                accuracy_in_bin = accuracies[in_bin].float().mean()\n",
    "                avg_confidence_in_bin = confidences[in_bin].mean()\n",
    "                ece += torch.abs(avg_confidence_in_bin - accuracy_in_bin) * prop_in_bin\n",
    "            else:\n",
    "                accuracy_in_bin = -100\n",
    "                avg_confidence_in_bin = -100\n",
    "            self.bin_list.append([bin_lower.item(),bin_upper.item()])\n",
    "            self.avg_confidence_in_bin_list.append(avg_confidence_in_bin)\n",
    "            self.accuracy_in_bin_list.append(accuracy_in_bin)            \n",
    "        return ece"
   ]
  },
  {
   "cell_type": "code",
   "execution_count": 18,
   "metadata": {},
   "outputs": [
    {
     "data": {
      "text/plain": [
       "tensor([0.1131])"
      ]
     },
     "execution_count": 18,
     "metadata": {},
     "output_type": "execute_result"
    }
   ],
   "source": [
    "## ECE on training set (original)\n",
    "ECE_loss = ECELoss()\n",
    "conf_tensor = torch.FloatTensor(ECE_original.Confidence.explode().to_list())\n",
    "pred_tensor = torch.FloatTensor(ECE_original.Prediction.explode().to_list())\n",
    "label_tensor = torch.FloatTensor(ECE_original.Label.explode().to_list())\n",
    "\n",
    "ECE_loss(conf_tensor, pred_tensor, label_tensor)"
   ]
  },
  {
   "cell_type": "code",
   "execution_count": 19,
   "metadata": {},
   "outputs": [
    {
     "name": "stdout",
     "output_type": "stream",
     "text": [
      "confidence: tensor([0.0000, 0.0000, 0.0000, 0.0000, 0.0000, 0.0000, 0.0000, 0.5165, 0.5668,\n",
      "        0.6336, 0.7002, 0.7674, 0.8337, 0.9003, 0.9612])\n",
      "accuracy  : tensor([0.0000, 0.0000, 0.0000, 0.0000, 0.0000, 0.0000, 0.0000, 0.5084, 0.5275,\n",
      "        0.5518, 0.5841, 0.6219, 0.6774, 0.7491, 0.8346])\n"
     ]
    }
   ],
   "source": [
    "confidence_arr = torch.tensor(list(map(lambda x: x if x >= 0 else 0, ECE_loss.avg_confidence_in_bin_list)))\n",
    "accuracy_arr = torch.tensor(list(map(lambda x: x if x >= 0 else 0, ECE_loss.accuracy_in_bin_list)))\n",
    "\n",
    "print(f\"confidence: {confidence_arr}\")\n",
    "print(f\"accuracy  : {accuracy_arr}\")\n",
    "\n",
    "bins_interval = np.array(ECE_loss.bin_list)\n",
    "bins = bins_interval.mean(axis=-1)"
   ]
  },
  {
   "cell_type": "code",
   "execution_count": 21,
   "metadata": {},
   "outputs": [
    {
     "data": {
      "image/png": "[encoded data removed]",
      "text/plain": [
       "<Figure size 576x432 with 1 Axes>"
      ]
     },
     "metadata": {},
     "output_type": "display_data"
    }
   ],
   "source": [
    "fig, ax = plt.subplots(1,1, figsize= (8,6))\n",
    "ax.bar(bins, np.array(confidence_arr), width=np.mean(bins_interval[:,1]-bins_interval[:,0]), alpha=0.5, label='confidence')\n",
    "ax.bar(bins, np.array(accuracy_arr), width=np.mean(bins_interval[:,1]-bins_interval[:,0]), alpha=0.5, label='accuracy')\n",
    "ax.plot(bins, bins, '-.',color='black')\n",
    "y_label = fig.text(0.05, 0.5, \"Model Confidence & Accuracy\", va='center', rotation='vertical', fontsize=15)\n",
    "x_label = fig.text(0.5, 0.05, \"Confidence Bins\", ha = 'center', fontsize = 15)\n",
    "ax.legend(fontsize = 12)\n",
    "ax.set_title('Calibration Plot (Original Set)', fontsize = 15, y = 1.05)\n",
    "plt.show()\n",
    "\n",
    "save_path = '/scratch/tl2546/NLP_project/BERT/output'\n",
    "fig.savefig(f'{save_path}/calibration_original.png', dpi = 500, bbox_inches = 'tight')"
   ]
  },
  {
   "cell_type": "code",
   "execution_count": 71,
   "metadata": {},
   "outputs": [
    {
     "name": "stdout",
     "output_type": "stream",
     "text": [
      "/scratch/tl2546/NLP_project/BERT\n"
     ]
    }
   ],
   "source": [
    "## TODO: ECE on training set (aug)"
   ]
  },
  {
   "cell_type": "code",
   "execution_count": null,
   "metadata": {},
   "outputs": [],
   "source": []
  },
  {
   "cell_type": "code",
   "execution_count": null,
   "metadata": {},
   "outputs": [],
   "source": []
  },
  {
   "cell_type": "markdown",
   "metadata": {},
   "source": [
    "##### Failed Trials\n",
    "---"
   ]
  },
  {
   "cell_type": "code",
   "execution_count": null,
   "metadata": {},
   "outputs": [],
   "source": [
    "# take a look at distribution\n",
    "print(toxicity_train.severe_toxicity.describe()) ## unbalanced sample\n",
    "\n",
    "fig, ax = plt.subplots(1,1, figsize = (8,4))\n",
    "sns.set(style=\"whitegrid\") \n",
    "sns.histplot(toxicity_train.severe_toxicity, binwidth = .05, color = violet, ax = ax)\n"
   ]
  },
  {
   "cell_type": "code",
   "execution_count": null,
   "metadata": {},
   "outputs": [],
   "source": [
    "train_jtc = pd.read_csv(f'{os.path.join(train_path, \"train_jtc.csv\")}')\n",
    "train_jtc.nunique()"
   ]
  },
  {
   "cell_type": "code",
   "execution_count": null,
   "metadata": {},
   "outputs": [],
   "source": [
    "# take a look at distribution\n",
    "print(train_jtc.toxic.describe()) ## unbalanced sample\n",
    "\n",
    "fig, ax = plt.subplots(1,1, figsize = (8,4))\n",
    "sns.set(style=\"whitegrid\") \n",
    "sns.histplot(train_jtc.toxic, binwidth = .05, color = violet, ax = ax)"
   ]
  },
  {
   "cell_type": "code",
   "execution_count": null,
   "metadata": {},
   "outputs": [],
   "source": [
    "# no need to use with json\n",
    "\n",
    "train_set_features = Features(\n",
    "    {\n",
    "        \"more_toxic_text\": Value(\"string\"),\n",
    "        \"less_toxic_text\": Value(\"string\"),\n",
    "        \"toxicity_more_toxic\": Value(\"float64\"),\n",
    "        \"toxicity_less_toxic\": Value(\"float64\"),\n",
    "        \"labels_more_toxic\": Value(\"int64\"),\n",
    "        \"labels_less_toxic\": Value(\"int64\"),\n",
    "    }\n",
    ")\n",
    "\n",
    "val_set_features = Features(\n",
    "    {\n",
    "        \"more_toxic_text\": Value(\"string\"),\n",
    "        \"less_toxic_text\": Value(\"string\")}\n",
    ")"
   ]
  },
  {
   "cell_type": "code",
   "execution_count": 13,
   "metadata": {
    "collapsed": true,
    "jupyter": {
     "outputs_hidden": true
    }
   },
   "outputs": [
    {
     "data": {
      "application/vnd.jupyter.widget-view+json": {
       "model_id": "5fca151df2f0475cbdf4baaa42c03c18",
       "version_major": 2,
       "version_minor": 0
      },
      "text/plain": [
       "Downloading data files:   0%|          | 0/1 [00:00<?, ?it/s]"
      ]
     },
     "metadata": {},
     "output_type": "display_data"
    },
    {
     "data": {
      "application/vnd.jupyter.widget-view+json": {
       "model_id": "a6cf5ec4a7af43a685c89bee2ccca333",
       "version_major": 2,
       "version_minor": 0
      },
      "text/plain": [
       "Extracting data files:   0%|          | 0/1 [00:00<?, ?it/s]"
      ]
     },
     "metadata": {},
     "output_type": "display_data"
    },
    {
     "data": {
      "application/vnd.jupyter.widget-view+json": {
       "model_id": "a9eb88dbc7dd43b4be67ed8c47cbf029",
       "version_major": 2,
       "version_minor": 0
      },
      "text/plain": [
       "Generating test split: 0 examples [00:00, ? examples/s]"
      ]
     },
     "metadata": {},
     "output_type": "display_data"
    },
    {
     "data": {
      "application/vnd.jupyter.widget-view+json": {
       "model_id": "6b3127c58fa34cc786365360833e1a90",
       "version_major": 2,
       "version_minor": 0
      },
      "text/plain": [
       "Saving the dataset (0/1 shards):   0%|          | 0/1 [00:00<?, ? examples/s]"
      ]
     },
     "metadata": {},
     "output_type": "display_data"
    },
    {
     "data": {
      "application/vnd.jupyter.widget-view+json": {
       "model_id": "375368f58f5c4bf88f7419bb52e8c6fc",
       "version_major": 2,
       "version_minor": 0
      },
      "text/plain": [
       "Saving the dataset (0/1 shards):   0%|          | 0/1 [00:00<?, ? examples/s]"
      ]
     },
     "metadata": {},
     "output_type": "display_data"
    }
   ],
   "source": [
    "train_set, val_set = 'jigsaw_training/train_paired_cleaned.json', 'jigsaw_validation/val_cleaned.json' \n",
    "\n",
    "train_to_load = DatasetDict.from_json({'train': os.path.join(data_path, train_set)})\n",
    "val_to_load = DatasetDict.from_json({'test':os.path.join(data_path, val_set)})\n",
    "\n",
    "combined_dataset_dict = DatasetDict()\n",
    "combined_dataset_dict['train'] = train_to_load['train']\n",
    "combined_dataset_dict['val'] = val_to_load['test']\n",
    "\n",
    "combined_dataset_dict.save_to_disk(data_path)"
   ]
  },
  {
   "cell_type": "code",
   "execution_count": 10,
   "metadata": {
    "collapsed": true,
    "jupyter": {
     "outputs_hidden": true
    }
   },
   "outputs": [
    {
     "name": "stdout",
     "output_type": "stream",
     "text": [
      "/scratch/tl2546/NLP_project\n"
     ]
    }
   ],
   "source": [
    "os.chdir('/scratch/tl2546/NLP_project/')\n",
    "!pwd"
   ]
  },
  {
   "cell_type": "code",
   "execution_count": 9,
   "metadata": {},
   "outputs": [],
   "source": [
    "from utils import *"
   ]
  },
  {
   "cell_type": "code",
   "execution_count": null,
   "metadata": {},
   "outputs": [],
   "source": [
    "small_train_aug = small_train_dataset.map(custom_transform)"
   ]
  },
  {
   "cell_type": "code",
   "execution_count": 6,
   "metadata": {},
   "outputs": [],
   "source": [
    "train_to_load = pd.read_json(f'{train_path}/train_paired_cleaned.json')\n",
    "val_to_load = pd.read_json(f'{val_path}/val_cleaned.json')\n",
    "\n",
    "data_path =  '/scratch/' + os.environ.get(\"USER\", \"\") + '/data/'\n",
    "train_set, val_set = 'jigsaw_training/train_paired_cleaned.json', 'jigsaw_validation/val_cleaned.json' "
   ]
  }
 ],
 "metadata": {
  "kernelspec": {
   "display_name": "Python 3",
   "language": "python",
   "name": "python3"
  },
  "language_info": {
   "codemirror_mode": {
    "name": "ipython",
    "version": 3
   },
   "file_extension": ".py",
   "mimetype": "text/x-python",
   "name": "python",
   "nbconvert_exporter": "python",
   "pygments_lexer": "ipython3",
   "version": "3.8.6"
  }
 },
 "nbformat": 4,
 "nbformat_minor": 4
}
